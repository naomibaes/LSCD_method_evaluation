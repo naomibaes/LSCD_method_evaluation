{
 "cells": [
  {
   "cell_type": "markdown",
   "metadata": {},
   "source": [
    "### Producing intensity variations using LLMs\n",
    "\n",
    "Input: a baseline sentence; Output: variations of this sentence where a target word is more or less intense\n"
   ]
  },
  {
   "cell_type": "code",
   "execution_count": 20,
   "metadata": {},
   "outputs": [],
   "source": [
    "from dotenv import load_dotenv\n",
    "load_dotenv()\n",
    "\n",
    "from dataclasses import dataclass\n",
    "import simplemind as sm\n",
    "\n",
    "TARGET_WORD = 'anxiety'\n",
    "\n",
    "# can be changed to gemini, see https://pypi.org/project/simplemind/\n",
    "PROVIDER = \"openai\"\n",
    "MODEL = \"gpt-4o\""
   ]
  },
  {
   "cell_type": "markdown",
   "metadata": {},
   "source": [
    "Setup examples to inject in the prompt"
   ]
  },
  {
   "cell_type": "code",
   "execution_count": 21,
   "metadata": {},
   "outputs": [],
   "source": [
    "@dataclass\n",
    "class Example:\n",
    "    baseline: str\n",
    "    more_intense: str\n",
    "    less_intense: str\n",
    "\n",
    "    def format_for_prompt(self):\n",
    "        return f\"\"\"<baseline>\n",
    "{self.baseline}\n",
    "</baseline>\n",
    "<increased {TARGET_WORD}>\n",
    "{self.more_intense}\n",
    "</increased {TARGET_WORD}>\n",
    "<decreased {TARGET_WORD}>\n",
    "{self.less_intense}\n",
    "</decreased {TARGET_WORD}>\n",
    "\"\"\"\n",
    "\n",
    "EXAMPLES = [\n",
    "    Example(\n",
    "        baseline=\"In a 24-yr-old female patient with a 12-yr history of kleptomania, it appeared that the behavior was maintained because it reduced anxiety in relevant situations.\",\n",
    "        more_intense=\"In a 24-yr-old female patient with a 12-yr history of kleptomania, it appeared that the behavior was maintained because it alleviated intense and overwhelming anxiety that pervaded her daily life.\",\n",
    "        less_intense=\"In a 24-yr-old female patient with a 12-yr history of kleptomania, it appeared that the behavior was maintained because it relieved mild, occasional anxiety in certain situations.\",\n",
    "    ),\n",
    "    Example(\n",
    "        baseline=\"Anxiety, insecurity, and lack of skill in establishing appropriate relationships prevented workers from obtaining adequate bases for evaluation and for effectuation of treatment.\",\n",
    "        more_intense=\"Intense anxiety, profound insecurity, and a lack of skill in establishing appropriate relationships prevented workers from obtaining adequate bases for evaluation and for effectuation of treatment.\",\n",
    "        less_intense=\"Mild anxiety, occasional insecurity, and a lack of skill in establishing appropriate relationships prevented workers from obtaining adequate bases for evaluation and for effectuation of treatment.\",\n",
    "    ),\n",
    "    Example(\n",
    "        baseline=\"The relationship between self-reported fear and anxiety was examined in a large sample of normal Australian children and adolescents.\",\n",
    "        more_intense=\"The relationship between deeply rooted fear and severe anxiety was examined in a large sample of Australian children and adolescents, revealing strong emotional undercurrents.\",\n",
    "        less_intense=\"The relationship between mild fear and occasional anxiety was examined in a large sample of Australian children and adolescents.\",\n",
    "    )\n",
    "]\n",
    "\n",
    "PROMPT_INTRO = f\"\"\"In psychology lexicographic research, we define \"intensity\" as the \"extent to which a word refers to more emotionally or referentially intense phenomena\". Here we study the intensity of the word \"{TARGET_WORD}\"\n",
    "You will be given a sentence with the word \"{TARGET_WORD}\" in it. You will then be asked to write two new sentences: one where the word \"{TARGET_WORD}\" is more intense, and one where it is less intense.\n",
    "\n",
    "\"\"\"\n"
   ]
  },
  {
   "cell_type": "code",
   "execution_count": 22,
   "metadata": {},
   "outputs": [],
   "source": [
    "@dataclass\n",
    "class SentenceToModify:\n",
    "    text: str\n",
    "\n",
    "    def get_prompt(self):\n",
    "        prompt = PROMPT_INTRO\n",
    "        for example in EXAMPLES:\n",
    "            prompt += example.format_for_prompt()\n",
    "            prompt += \"\\n\\n\"\n",
    "        \n",
    "        prompt += f\"\"\"<baseline>\n",
    "{self.text}\n",
    "</baseline>\n",
    "\"\"\"\n",
    "        return prompt\n",
    "    \n",
    "    def parse_response(self, response: str):\n",
    "        # get the sentences inside <more {TARGET_WORD}> and <less {TARGET_WORD}>\n",
    "        increased_variation = response.split(f\"<increased {TARGET_WORD}>\")[1].split(f\"</increased {TARGET_WORD}>\")[0].strip()\n",
    "        decreased_variation = response.split(f\"<decreased {TARGET_WORD}>\")[1].split(f\"</decreased {TARGET_WORD}>\")[0].strip()\n",
    "        return increased_variation, decreased_variation\n",
    "\n",
    "    def get_variations(self) -> list[str]:\n",
    "        \"\"\" Returns a list of two strings: one where the TARGET_WORD is more intense, and one where it is less intense \"\"\"\n",
    "        assert TARGET_WORD in self.text, f\"TARGET_WORD {TARGET_WORD} not found in text\"\n",
    "        prompt = self.get_prompt()\n",
    "        res = sm.generate_text(prompt=prompt, llm_provider=PROVIDER, llm_model=MODEL)\n",
    "        return self.parse_response(res)\n"
   ]
  },
  {
   "cell_type": "code",
   "execution_count": 23,
   "metadata": {},
   "outputs": [
    {
     "data": {
      "text/plain": [
       "('The profound and crippling anxiety caused by impending surgery consumed her, leaving her feeling completely overwhelmed and vulnerable, and severely impacting her daily life.',\n",
       " 'The mild anxiety caused by impending surgery left her feeling somewhat concerned and vulnerable, but only slightly affected her daily life.')"
      ]
     },
     "execution_count": 23,
     "metadata": {},
     "output_type": "execute_result"
    }
   ],
   "source": [
    "sentence = SentenceToModify(text=\"The anxiety caused by impending surgery left her feeling overwhelmed and vulnerable, affecting her daily life.\")\n",
    "sentence.get_variations()\n"
   ]
  },
  {
   "cell_type": "code",
   "execution_count": null,
   "metadata": {},
   "outputs": [],
   "source": []
  }
 ],
 "metadata": {
  "kernelspec": {
   "display_name": ".venv",
   "language": "python",
   "name": "python3"
  },
  "language_info": {
   "codemirror_mode": {
    "name": "ipython",
    "version": 3
   },
   "file_extension": ".py",
   "mimetype": "text/x-python",
   "name": "python",
   "nbconvert_exporter": "python",
   "pygments_lexer": "ipython3",
   "version": "3.12.5"
  }
 },
 "nbformat": 4,
 "nbformat_minor": 2
}

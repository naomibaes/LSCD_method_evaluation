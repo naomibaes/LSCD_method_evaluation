{
 "cells": [
  {
   "cell_type": "markdown",
   "metadata": {},
   "source": [
    "## all year samples"
   ]
  },
  {
   "cell_type": "markdown",
   "metadata": {},
   "source": [
    "Read in all-year embeddings from .jsonl file"
   ]
  },
  {
   "cell_type": "code",
   "execution_count": null,
   "metadata": {},
   "outputs": [],
   "source": [
    "open(\"sentiment_all_year_deberta.jsonl\", \"r\", encoding=\"utf-8\") as f:\n",
    "    dberta = [json.loads(line) for line in f]\n",
    "\n",
    "items_pd = []\n",
    "for i in range(len(dberta)):\n",
    "    item = dberta[i]\n",
    "    items_pd.append([i]+[item[key] for key in ['target', 'injection_level', 'variation']])\n",
    "    del item\n",
    "items_pd = pd.DataFrame(items_pd, columns=['index','target', 'injection_level', 'condition'])\n",
    "\n",
    "M = np.asarray([item['embedding'] for item in dberta])"
   ]
  },
  {
   "cell_type": "markdown",
   "metadata": {},
   "source": [
    "### within-bin APD"
   ]
  },
  {
   "cell_type": "code",
   "execution_count": null,
   "metadata": {},
   "outputs": [],
   "source": [
    "xx"
   ]
  },
  {
   "cell_type": "markdown",
   "metadata": {},
   "source": [
    "### between-bin APD (0 versus 20; 40; 60; 80; 100% injection level)"
   ]
  },
  {
   "cell_type": "code",
   "execution_count": null,
   "metadata": {},
   "outputs": [],
   "source": [
    "xxx"
   ]
  }
 ],
 "metadata": {
  "language_info": {
   "name": "python"
  }
 },
 "nbformat": 4,
 "nbformat_minor": 2
}

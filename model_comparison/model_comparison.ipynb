{
 "cells": [
  {
   "cell_type": "markdown",
   "metadata": {},
   "source": [
    "Author: Naomi Baes\n",
    "Aim: Compute change scores (100-0) for bootstrap sampling; ROC (100-0) for stratified random sampling."
   ]
  },
  {
   "cell_type": "markdown",
   "metadata": {},
   "source": [
    "# Bootstrap sampling (all-year)"
   ]
  },
  {
   "cell_type": "code",
   "execution_count": 63,
   "metadata": {},
   "outputs": [
    {
     "name": "stdout",
     "output_type": "stream",
     "text": [
      "All differences calculated and saved to final_change_scores_all-year.csv\n"
     ]
    }
   ],
   "source": [
    "import pandas as pd\n",
    "import numpy as np\n",
    "\n",
    "def load_data(filepath):\n",
    "    \"\"\"Load CSV data, drop empty rows, and flatten multi-index columns.\"\"\"\n",
    "    try:\n",
    "        df = pd.read_csv(filepath)\n",
    "        \n",
    "        # Drop any completely empty rows\n",
    "        df = df.dropna(how='all')\n",
    "\n",
    "        # Flatten multi-index columns if needed\n",
    "        if isinstance(df.columns, pd.MultiIndex):\n",
    "            df.columns = ['_'.join(col).strip() if isinstance(col, tuple) else col for col in df.columns]\n",
    "        \n",
    "        return df\n",
    "    except FileNotFoundError:\n",
    "        print(f\"File not found: {filepath}\")\n",
    "        return None\n",
    "\n",
    "def calculate_diff(df, value_columns, dimension, measure_tag=\"\", measure_type=\"\"):\n",
    "    \"\"\"\n",
    "    Calculates the difference between injection_ratio 100 and 0 for the specified value columns,\n",
    "    and assigns increase or decrease based on specific logic per dataset.\n",
    "    \"\"\"\n",
    "    if df is None:\n",
    "        print(\"Dataframe is empty, skipping processing.\")\n",
    "        return pd.DataFrame()\n",
    "    \n",
    "    if 'inj_ratio' in df.columns:\n",
    "        df = df.rename(columns={'inj_ratio': 'injection_ratio'})\n",
    "    \n",
    "    if 'injection_ratio' not in df.columns:\n",
    "        print(\"Missing 'injection_ratio' column, skipping processing.\")\n",
    "        return pd.DataFrame()\n",
    "\n",
    "    df_filtered = df[df['injection_ratio'].isin([0, 100])]\n",
    "    if df_filtered.empty:\n",
    "        print(\"No relevant injection ratios found, skipping processing.\")\n",
    "        return pd.DataFrame()\n",
    "\n",
    "    index_col = 'term' if 'term' in df.columns else 'target'\n",
    "    df_pivoted = df_filtered.pivot(index=index_col, columns='injection_ratio', values=value_columns)\n",
    "    df_pivoted.reset_index(inplace=True)  # Ensure index columns are back to normal columns\n",
    "\n",
    "    results = []\n",
    "    for col in value_columns:\n",
    "        diff_col_name = f'{col}_diff{measure_tag}'\n",
    "        df_pivoted[diff_col_name] = df_pivoted[(col, 100)] - df_pivoted[(col, 0)]\n",
    "        temp_df = df_pivoted.loc[:, [index_col, diff_col_name]]\n",
    "        temp_df.rename(columns={index_col: 'target', diff_col_name: 'change_score'}, inplace=True)\n",
    "        \n",
    "        # Apply increase or decrease logic based on column and measure\n",
    "        temp_df['condition'] = np.where(temp_df['change_score'] > 0, \"Increase\", \"Decrease\")\n",
    "        temp_df['dimension'] = dimension\n",
    "        temp_df['measure'] = measure_type\n",
    "        \n",
    "        results.append(temp_df)\n",
    "\n",
    "    return pd.concat(results, ignore_index=True) if results else pd.DataFrame()\n",
    "\n",
    "# **Load datasets**\n",
    "df_valence = load_data(\"../1_sentiment/output/baseline_averaged_valence_index_all-year_normalized.csv\")\n",
    "df_arousal = load_data(\"../3_intensity/output/baseline_averaged_arousal_index_all-year_normalized.csv\")\n",
    "df_cosine = load_data(\"../2_breadth/output/baseline_final_combined.all-year.cds_mpnet.csv\")\n",
    "df_valence_absa = load_data(\"../1_sentiment/output/absa_averaged_sentiment_index_all-year_with_se.csv\")\n",
    "df_cosine_lexeme = load_data(\"../2_breadth/output/baseline_final_combined.all-year.cds_lexeme.csv\")\n",
    "df_xl_lexeme = load_data(\"../xl_lexeme_results.csv\")  # New dataset\n",
    "\n",
    "# **Calculate differences for original datasets**\n",
    "valence_diff = calculate_diff(df_valence, ['avg_valence_index_negative', 'avg_valence_index_positive'], \"Sentiment\", \"\", \"SIB\")\n",
    "arousal_diff = calculate_diff(df_arousal, ['avg_arousal_index_high', 'avg_arousal_index_low'], \"Intensity\", \"\", \"SIB\")\n",
    "cosine_diff = calculate_diff(df_cosine, ['cosine_dissim_mean'], \"Breadth\", \"\", \"SIB\")\n",
    "valence_absa_diff = calculate_diff(df_valence_absa, ['avg_valence_index_negative', 'avg_valence_index_positive'], \"Sentiment\", \"_absa\", \"absa\")\n",
    "cosine_lexeme_diff = calculate_diff(df_cosine_lexeme, ['cosine_dissim_mean'], \"Breadth\", \"_lexeme\", \"Breadth (lexeme)\")\n",
    "\n",
    "# **Process xl_lexeme_results.csv to extract 100_0 column**\n",
    "if df_xl_lexeme is not None:\n",
    "    df_xl_lexeme = df_xl_lexeme[['target', 'dimension', 'condition', '100_0']].copy()\n",
    "    df_xl_lexeme.rename(columns={'100_0': 'change_score'}, inplace=True)\n",
    "\n",
    "    # **Fix inconsistent casing for 'dimension' values**\n",
    "    df_xl_lexeme['dimension'] = df_xl_lexeme['dimension'].str.capitalize()\n",
    "\n",
    "    # **Ensure 'condition' is correctly mapped**\n",
    "    df_xl_lexeme['condition'] = df_xl_lexeme['condition'].replace({\n",
    "        'positive': 'Increase',\n",
    "        'negative': 'Decrease',\n",
    "        'high': 'Increase',\n",
    "        'low': 'Decrease',\n",
    "        'neutral': 'Neutral'\n",
    "    })\n",
    "\n",
    "    # **Ensure 'condition' is filled correctly for Breadth and Intensity**\n",
    "    df_xl_lexeme.loc[df_xl_lexeme['dimension'].isin(['Breadth', 'Intensity']), 'condition'] = df_xl_lexeme['condition']\n",
    "\n",
    "    # **Add measure label**\n",
    "    df_xl_lexeme['measure'] = 'LSC'\n",
    "\n",
    "    # **Ensure proper column ordering**\n",
    "    df_xl_lexeme = df_xl_lexeme[['target', 'change_score', 'condition', 'dimension', 'measure']]\n",
    "\n",
    "# **Combine all results into a single DataFrame**\n",
    "final_results = pd.concat(\n",
    "    [valence_diff, arousal_diff, cosine_diff, valence_absa_diff, cosine_lexeme_diff, df_xl_lexeme], \n",
    "    ignore_index=True\n",
    ")\n",
    "\n",
    "# **Drop duplicate columns & ensure uniform headers**\n",
    "final_results = final_results.loc[:, ~final_results.columns.duplicated()].copy()\n",
    "\n",
    "# **Save the final DataFrame to a CSV file**\n",
    "final_results.to_csv(\"final_change_scores_all-year.csv\", index=False)\n",
    "print(\"All differences calculated and saved to final_change_scores_all-year.csv\")"
   ]
  },
  {
   "cell_type": "markdown",
   "metadata": {},
   "source": [
    "# fix misalignment and labels"
   ]
  },
  {
   "cell_type": "code",
   "execution_count": 69,
   "metadata": {},
   "outputs": [
    {
     "name": "stdout",
     "output_type": "stream",
     "text": [
      "✅ Misaligned rows fixed, target names corrected, and negative values added to 'decrease' condition. Saved to 'final_change_scores_all-year.csv'\n"
     ]
    }
   ],
   "source": [
    "import pandas as pd\n",
    "\n",
    "# Load the misaligned dataset\n",
    "df = pd.read_csv(\"final_change_scores_all-year.csv\", dtype=str)\n",
    "\n",
    "# Ensure proper column names\n",
    "expected_columns = [\"target\", \"change_score\", \"condition\", \"dimension\", \"measure\"]\n",
    "\n",
    "# Identify rows that are misaligned (leading NaNs)\n",
    "misaligned_rows = df[df.isna().sum(axis=1) > 2].index\n",
    "\n",
    "# Shift the LSC rows left by counting the number of empty columns\n",
    "for idx in misaligned_rows:\n",
    "    row_values = df.loc[idx].dropna().tolist()  # Remove NaNs and convert to list\n",
    "    if len(row_values) == len(expected_columns):  # Ensure full alignment\n",
    "        df.loc[idx, expected_columns] = row_values\n",
    "\n",
    "# Drop remaining NaN-filled columns\n",
    "df = df[expected_columns]\n",
    "\n",
    "# **Fix 'health' and 'illness' in the 'target' column**\n",
    "df[\"target\"] = df[\"target\"].replace({\n",
    "    \"health\": \"mental_health\",\n",
    "    \"illness\": \"mental_illness\"\n",
    "})\n",
    "\n",
    "# **Ensure 'change_score' is numeric**\n",
    "df[\"change_score\"] = pd.to_numeric(df[\"change_score\"], errors=\"coerce\")\n",
    "\n",
    "# **Add a negative value to the 'decrease' condition for all change scores**\n",
    "df.loc[df[\"condition\"].str.lower() == \"decrease\", \"change_score\"] *= -1\n",
    "\n",
    "# Save the cleaned DataFrame\n",
    "df.to_csv(\"final_change_scores_all-year.csv\", index=False, encoding=\"utf-8\")\n",
    "print(\"✅ Misaligned rows fixed, target names corrected, and negative values added to 'decrease' condition. Saved to 'final_change_scores_all-year.csv'\")\n"
   ]
  },
  {
   "cell_type": "markdown",
   "metadata": {},
   "source": [
    "# Stratified Random Sampling (5-year)"
   ]
  },
  {
   "cell_type": "markdown",
   "metadata": {},
   "source": [
    "## Get rate of change score for SIB measures"
   ]
  },
  {
   "cell_type": "code",
   "execution_count": null,
   "metadata": {},
   "outputs": [],
   "source": []
  },
  {
   "cell_type": "markdown",
   "metadata": {},
   "source": [
    "## Get rate of change score for SIB measures"
   ]
  },
  {
   "cell_type": "code",
   "execution_count": null,
   "metadata": {},
   "outputs": [],
   "source": []
  },
  {
   "cell_type": "markdown",
   "metadata": {},
   "source": [
    "## Get rate of change score for SIB measures"
   ]
  },
  {
   "cell_type": "code",
   "execution_count": null,
   "metadata": {},
   "outputs": [],
   "source": []
  }
 ],
 "metadata": {
  "kernelspec": {
   "display_name": "base",
   "language": "python",
   "name": "python3"
  },
  "language_info": {
   "codemirror_mode": {
    "name": "ipython",
    "version": 3
   },
   "file_extension": ".py",
   "mimetype": "text/x-python",
   "name": "python",
   "nbconvert_exporter": "python",
   "pygments_lexer": "ipython3",
   "version": "3.11.4"
  }
 },
 "nbformat": 4,
 "nbformat_minor": 2
}

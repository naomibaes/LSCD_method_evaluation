{
 "cells": [
  {
   "cell_type": "markdown",
   "metadata": {},
   "source": [
    "Author: Naomi Baes and Chat GPT\n",
    "\n",
    "# Tokenize corpus into sentences\n",
    "\n",
    "Model: en_core_web_sm https://spacy.io/models/en\n",
    "- SENTS_P\tSentence segmentation (precision) 0.92\n",
    "- SENTS_R\tSentence segmentation (recall) 0.89\n",
    "- SENTS_F\tSentence segmentation (F-score)\t0.91"
   ]
  },
  {
   "cell_type": "markdown",
   "metadata": {},
   "source": [
    "## Step 1: Compute test corpus first to run model/scripts on (can skip but not advised)"
   ]
  },
  {
   "cell_type": "code",
   "execution_count": 2,
   "metadata": {},
   "outputs": [],
   "source": [
    "import pandas as pd\n",
    "\n",
    "# Set pandas options to display full content\n",
    "pd.set_option('display.max_colwidth', None)\n",
    "pd.set_option('display.max_rows', None)\n",
    "pd.set_option('display.expand_frame_repr', False)\n",
    "\n",
    "# File paths\n",
    "input_file_path = \"C:/Users/naomi/OneDrive/COMP80004_PhDResearch/RESEARCH/DATA/CORPORA/Psychology/abstract_year_journal.csv.mental\"\n",
    "\n",
    "# Load the input file using ' IIIII ' as the delimiter\n",
    "df = pd.read_csv(input_file_path, sep=' IIIIII ', engine='python')\n",
    "\n",
    "# Select the first 50 rows\n",
    "test_set = df.head(50)\n",
    "\n",
    "test_set.to_csv('output/output_test_set.tsv', sep='\\t', index=False)"
   ]
  },
  {
   "cell_type": "markdown",
   "metadata": {},
   "source": [
    "## Step 2: Run spaCy model to tokenize corpus into sentences\n",
    "\n",
    "Note:\n",
    "- Disabled `ner`, `parser`, `tagger`\n",
    "- Using `sentencizer` as text is well-tructured and formal (academic papers)--can use `parser` when text is complex, ambiguous sentence boundaries or is informal (e.g., social media, speech transcripts)\n",
    "- It also estimates where fullstops are missing and places full stops there to avoid errors (substantially lengthening run-time)\n",
    "- Ignore SpaCy lemmatizer warning about missing POS annotation (because we do not need it for sentence tokenization)\n"
   ]
  },
  {
   "cell_type": "code",
   "execution_count": 28,
   "metadata": {},
   "outputs": [
    {
     "name": "stderr",
     "output_type": "stream",
     "text": [
      "100%|██████████| 871343/871343 [2:50:36<00:00, 85.12it/s]   \n"
     ]
    },
    {
     "name": "stdout",
     "output_type": "stream",
     "text": [
      "First 10 tokenized rows:\n",
      "1: The withdrawal response of the land snail helix albolabris disappears on appropriate repetition of the (mechanical) stimulus.\t1930\tPsychological Research\n",
      "2: In the usual terminology, the snail becomes habituated to the stimulus.\t1930\tPsychological Research\n",
      "3: The disappearance of the response cannot be due to fatigue, as this term is usually understood; for (a) a single stimulus may be sufficient to effect it, (b) more intense stimulation will, under conditions not quantitatively ascertained, remove the habituation, a fact difficult to reconcile with the ordinary conception of fatigue, (c) cases were observed where the habituation took longer to re-effect after the extraneous stimulus than before.\t1930\tPsychological Research\n",
      "4: Habituation disappears after appropriate rest.\t1930\tPsychological Research\n",
      "5: It may be deepened by further stimulation after response has ceased.\t1930\tPsychological Research\n",
      "6: The hypothesis is put forward of a physiological state or process tending to diminish action; such process would be intensified by appropriate repetition of the existing stimulus, and diminished by appropriate rest and extraneous stimulation.\t1930\tPsychological Research\n",
      "7: A similar hypothesis is made to explain the extinction of conditioned responses by Pavlov, who calls the underlying process Inhibition.\t1930\tPsychological Research\n",
      "8: The phenomenon investigated, and extinction of conditioned reflexes probably have the same explanation.\t1930\tPsychological Research\n",
      "9: With reference to the phenomena of habituation, the snail, as a biological system, behaves in the manner that would be expected of a system obeying Le Chatelier's rule.\t1930\tPsychological Research\n",
      "10: ||||| 1930 ||||| Psychologische Forschung ||||| Psychological Research\t1930\tPsychological Research\n",
      "Tokenized sentences written to C:/Users/naomi/OneDrive/COMP80004_PhDResearch/RESEARCH/DATA/CORPORA/Psychology/abstract_year_journal.csv.mental.sentence.tsv\n"
     ]
    }
   ],
   "source": [
    "%run step1_spacy_tokenizer_sentence.py # Output file: \"..(etc)/CORPORA/Psychology/abstract_year_journal.csv.mental.sentence.tsv\""
   ]
  },
  {
   "cell_type": "markdown",
   "metadata": {},
   "source": [
    "## Step 3: Clean\n",
    "\n",
    "Aim: \n",
    "- Removes sentences (1) containing \"|||||\", (2) that are empty, (3) that are malformed, and writes them to \"removed_lines_log.txt\"  \n",
    "- Cleans and creates 2 output files: one with journal information in column 3 and one without journal information"
   ]
  },
  {
   "cell_type": "code",
   "execution_count": 8,
   "metadata": {},
   "outputs": [
    {
     "name": "stdout",
     "output_type": "stream",
     "text": [
      "Total lines removed: 881739\n",
      "Cleaned corpus with journal_title written to C:/Users/naomi/OneDrive/COMP80004_PhDResearch/RESEARCH/DATA/CORPORA/Psychology/abstract_year_journal.csv.mental.sentence-CLEAN-journals.tsv\n",
      "Cleaned corpus without journal_title written to C:/Users/naomi/OneDrive/COMP80004_PhDResearch/RESEARCH/DATA/CORPORA/Psychology/abstract_year_journal.csv.mental.sentence-CLEAN.tsv\n",
      "Removed lines written to output/removed_lines_log.txt\n"
     ]
    }
   ],
   "source": [
    "%run step2_clean_corpus.py # Main output file: \"..(etc)/CORPORA/Psychology/abstract_year_journal.csv.mental.sentence-CLEAN.tsv\""
   ]
  },
  {
   "cell_type": "code",
   "execution_count": 10,
   "metadata": {},
   "outputs": [
    {
     "name": "stderr",
     "output_type": "stream",
     "text": [
      "c:\\Users\\naomi\\anaconda3\\Lib\\site-packages\\pandas\\core\\arrays\\masked.py:60: UserWarning: Pandas requires version '1.3.6' or newer of 'bottleneck' (version '1.3.5' currently installed).\n",
      "  from pandas.core import (\n"
     ]
    },
    {
     "name": "stdout",
     "output_type": "stream",
     "text": [
      "[1930 1931 1932 1933 1934 1936 1937 1938 1939 1940 1941 1942 1943 1944\n",
      " 1945 1946 1947 1948 1949 1950 1951 1952 1953 1954 1955 1956 1957 1958\n",
      " 1959 1960 1961 1962 1963 1964 1965 1966 1967 1968 1969 1970 1971 1972\n",
      " 1973 1974 1975 1976 1977 1978 1979 1980 1981 1982 1983 1984 1985 1986\n",
      " 1987 1988 1989 1990 1991 1992 1993 1994 1995 1996 1997 1998 1999 2000\n",
      " 2001 2002 2003 2004 2005 2006 2007 2008 2009 2010 2011 2012 2013 2014\n",
      " 2015 2016 2017 2018 2019]\n"
     ]
    }
   ],
   "source": [
    "import pandas as pd\n",
    "df_cleaned = pd.read_csv(\"C:/Users/naomi/OneDrive/COMP80004_PhDResearch/RESEARCH/DATA/CORPORA/Psychology/abstract_year_journal.csv.mental.sentence-CLEAN.tsv\", sep='\\t', header=0)\n",
    "print(df_cleaned.iloc[:, 1].unique())"
   ]
  },
  {
   "cell_type": "markdown",
   "metadata": {},
   "source": [
    "## Step 4: Inspect tokenized corpus\n",
    "\n",
    "Aim: Get summary statistics for the cleaned corpus file\n",
    "Note: Alter input file for tsv with/without journals"
   ]
  },
  {
   "cell_type": "code",
   "execution_count": 6,
   "metadata": {},
   "outputs": [
    {
     "name": "stdout",
     "output_type": "stream",
     "text": [
      "Header: ['sentence', 'publication_year']\n",
      "\n",
      "First 100 lines of the file (printed as they appear):\n",
      "\n",
      "The withdrawal response of the land snail helix albolabris disappears on appropriate repetition of the (mechanical) stimulus.\t1930\n",
      "In the usual terminology, the snail becomes habituated to the stimulus.\t1930\n",
      "The disappearance of the response cannot be due to fatigue, as this term is usually understood; for (a) a single stimulus may be sufficient to effect it, (b) more intense stimulation will, under conditions not quantitatively ascertained, remove the habituation, a fact difficult to reconcile with the ordinary conception of fatigue, (c) cases were observed where the habituation took longer to re-effect after the extraneous stimulus than before.\t1930\n",
      "Habituation disappears after appropriate rest.\t1930\n",
      "It may be deepened by further stimulation after response has ceased.\t1930\n",
      "The hypothesis is put forward of a physiological state or process tending to diminish action; such process would be intensified by appropriate repetition of the existing stimulus, and diminished by appropriate rest and extraneous stimulation.\t1930\n",
      "A similar hypothesis is made to explain the extinction of conditioned responses by Pavlov, who calls the underlying process Inhibition.\t1930\n",
      "The phenomenon investigated, and extinction of conditioned reflexes probably have the same explanation.\t1930\n",
      "With reference to the phenomena of habituation, the snail, as a biological system, behaves in the manner that would be expected of a system obeying Le Chatelier's rule.\t1930\n",
      "In this section it is concluded that velocity is perceived directly and is dynamically conditioned by the structure and general properties of the visual field in which the movement occurs.\t1931\n",
      "The visual perception of velocity follows dynamic laws that are not immediately deducible from the velocity of the stimulus as physically defined.\t1931\n",
      "No physiological theory is offered but it is pointed out that the theory of physiological Gestalten is essentially correct in its basic assumptions concerning the perception of movement.\t1931\n",
      "The investigation has bearing on the problems of movement thresholds, movement after-images and the perception of time.\t1931\n",
      "The equation, phenomenal velocity=phenomenal space/phenomenal time-, v=st, was proven in the following manner.\t1931\n",
      "Five cases where variation in the structure of the movement field causes variation in the phenomenal velocity were tested to find out if to the variation in phenomenal velocity corresponding variation in phenomenal time (or phenomenal space) of the movement were to be found.\t1931\n",
      "The results of these tests were in close agreement, with the values predicted, from the facts known about phenomenal velocity, on the supposition that the equation held.\t1931\n",
      "From this it is concluded that all those structural variations that increase the phenomenal velocity of a movement either increase the phenomenal space or shorten the phenomenal time for equal space correspondingly 2.\t1931\n",
      "In far the greater number of cases, the variation is caused in the phenomenal time, and hence it is concluded that impression of duration gained by watching objects in visual movement fields is conditioned by the properties of the field in which the movement occurs.\t1931\n",
      "These variations in the flow of phenomenal time are not isolated cases which could be explained as illusions, but are continuous variations conditioned by practically any change in the structure of the movement field.\t1931\n",
      "Time where there is movement (filled time) is on the whole phenomenally longer than time marked off by disparate stimuli (unfilled time).\t1931\n",
      "This ratio varies, however, in accordance with the structure of the field in which the movement (filled time) occurs.\t1931\n",
      "A wide range of individual differences in the ability to identify facial expressions of emotion has been reported.\t1932\n",
      "As evidence that these inequalities are due in large part to differences of practice in reacting to expressive criteria, rather than to innate factors, F. H. Allport has offered the data from an experimental observation of the effects of training subjects of varying ability for fifteen minutes in the analysis of facial expressions.\t1932\n",
      "The gain in score made by his subjects on the facial expression test after the training period was roughly inversely proportional to their original standing; i.e., the less proficient persons gained the most and the more proficient gained the least.\t1932\n",
      "Repeating this procedure with larger groups of subjects, both with the same and longer study periods, the writer largely confirmed Allport's data.\t1932\n",
      "However, a control experiment, affording no opportunity for study, yielded similar data, except that on the average no gain in score resulted.\t1932\n",
      "The inverse relationship between original ability and amount of gain or loss should not, therefore, be attributed to the effects of training.\t1932\n",
      "Further analysis shows that when the reliability of the facial expression test, found by retesting a group of subjects, is taken into account, the negative coefficient practically disappears.\t1932\n",
      "The negative coefficient, upon which Allport bases his theory, is thus found to result in this study from the erroneous assumption that the reliability of the facial expression test is perfect.\t1932\n",
      "The writer, though inclined to agree with Allport's theory, concludes that this type of experimental evidence, when closely scrutinized, fails to support the theory.\t1932\n",
      "In the first part of this paper we studied the factors which influenced older children and adults in solving the task of doubling and halving simple figures and solids.\t1933\n",
      "In the second we supplemented our results by a qualitative analysis of the behavior of younger children in the performance of similar tasks.\t1933\n",
      "It has appeared in our experiments that certain absolute spacial directions play a dominant rle in the drawings even of young children, but that frequently the dominant directions are not determined by absolute position but by their significance in a given form.\t1933\n",
      "The Metzger effect, i. e. the brightening of a Hering spot shadow after the introduction of a larger shadow, cannot be explained as a case of transformation.\t1933\n",
      "Theoretical considerations as well as experimental evidence speak against this explanation.\t1933\n",
      "Experiments with changing fixation point show that a retinal explanation is equally impossible.\t1933\n",
      "The after effect in time is essential for the Metzger phenomenon.\t1933\n",
      "The place of the after effect is determined by the structure of the field and not by retinal localisation as is the case with the ordinary after image.\t1933\n",
      "Although ratings of subjects and judgments of personality from photographs may, on the average, be highly inaccurate, yet there exist considerable individual differences in the intuitive abilities of different judges or raters.\t1933\n",
      "Twenty measures of ability to judge personality were obtained for 48 judges, together with a number of measures of intellectual, social-asocial, and artistic tendencies.\t1933\n",
      "An extreme absence of consistency was found between the judging tests; the accuracy depends not only on the subject who is judged, but also on the content of the judgment and on the conditions under which the judgment is given.\t1933\n",
      "However, the personalities of the good and bad judges manifested fairly uniform characteristics.\t1933\n",
      "Good judges of self are more intelligent and possess more sense of humor than the average.\t1933\n",
      "Good judges of friends and associates are less socially inclined and less intelligent, but more artistic than good self-judges.\t1933\n",
      "Good judges of strangers are distinctly more artistic and intelligent than the average, and, under certain conditions, more asocial.\t1933\n",
      "Consensus ratings for beauty or attractiveness yielded comparatively low, though mostly positive, correlations with intelligence and educational achievement.\t1933\n",
      "Most of the correlations between beauty and intelligence and also between beauty and scholarship were in the neighborhood of +.20.\t1933\n",
      "Four groups of college students, two groups of girls and two groups of boys, served as S's.\t1933\n",
      "The consensus ratings for beauty were secured from 2 groups of judges, each group composed of 12 boys and 12 girls.\t1933\n",
      "These consensus ratings were correlated with ratings for intelligence and scholarship, as determined by intelligence test scores and by grades received in at least three semesters of college work.\t1933\n",
      "The ratings for beauty showed a high degree of variability.\t1933\n",
      "On the average, individual judgments deviated from the consensus ratings by about four steps.\t1933\n",
      "Deviations were greater for the middle group than for those taking a high or low position in the consensus ratings.\t1933\n",
      "The judges showed higher variability in rating their own sex than when rating the opposite sex.\t1933\n",
      "Judgments of occupations were made from printed photographs, presented in series of pairs, the subject having been informed as to the occupational groups represented in the pairs.\t1933\n",
      "For all comparisons of groups, more right than wrong judgments were made.\t1933\n",
      "These differences were found to be reliable, and varied from slight (for comparisons of politicians with men of letters) to moderate (for comparisons of politicians with business men).\t1933\n",
      "The differences do not, however, warrant the existence of occupational types.\t1933\n",
      "The asserted bases of judgment were found to be numerous and inconsistent, and are believed to be more frequently rationalizations, i.e., justifications, than the real determinants of judgment.\t1933\n",
      "The events narrated seem to indicate that vested interests have considerable to do with the way in which institutional habits are formed.\t1934\n",
      "It was evident, however, that when the institutional attitude was finally established it was built upon a need among all concerned.\t1934\n",
      "It might be possible, on the other hand, if the vested interests were absent, to satisfy the need through a different course of action than the one adopted under pressure of propaganda.\t1934\n",
      "Institutional attitudes may be maintained in individuals long after the need for their maintenance is reduced only to an illusion of universality of the attitude among group members.\t1934\n",
      "This is called a condition of pluralistic ignorance.\t1934\n",
      "When members are provided an objective criterion of other people's attitude the institutional attitude is likely to be discarded.\t1934\n",
      "A derivation of equations fundamental to the technique of path coefficients is given.\t1936\n",
      "Suggestions are made with respect to the calculations required in the use of the technique.\t1936\n",
      "The relations of the technique to those of partial correlation, semi-partial correlation, part correlation, multiple correlation, and factor analysis are discussed.\t1936\n",
      "Some consideration is given to the merits and limitations of the technique of path coefficients.\t1936\n",
      "A new item selection technique is presented which takes into account the intercorrelations of the items as well as their correlations with the criterion.\t1936\n",
      "The technique is regarded as superior to comparable techniques in that it is considered to achieve greater economy of time, greater objectivity of procedure, higher validity, and higher reliability.\t1936\n",
      "The mathematical theory underlying the method is developed.\t1936\n",
      "An approximate solution of the mathematical equations is suggested.\t1936\n",
      "An approximation procedure for the complete item selection technique is presented, based on the mathematical solution, but much simpler in procedure.\t1936\n",
      "The clerical operations involved in the approximation procedure are outlined and illustrated on a sample worksheet.\t1936\n",
      "A variation of the centroid method is described and illustrated.\t1936\n",
      "By the application of new rules for reflecting signs, it may be possible to reduce to insignificance the factor loadings of tests showing insignificant correlation (original or residual) with clusters of tests having relatively high intercorrelations.\t1936\n",
      "As a result, a factor common to any one of these clusters may be revealed by the centroid method itself with little or no need for rotation of axes or further calculations.\t1936\n",
      "An experiment was performed to determine the relationship between the accuracy of the original learning and the accuracy of transposition.\t1936\n",
      "The usual method of comparison of the average number of errors in the transposition test made by a group of rats trained to a criterion of 10 consecutive errorless trials with the average number of errors made by a group of rats trained to a criterion of 30 consecutive errorless trials reveals no clear difference between the groups.\t1936\n",
      "However, the degree of learning at the point when training ceased, plotted against errors made in transposition, brings out a clear relationship between degree of original learning and accuracy of transposition.\t1936\n",
      "Within the range of learning tested, the more accurate the original learning was, the more accurate was the transposition.\t1936\n",
      "By the use of an algebraic variant of the ordinary formula for bi-serial correlation, tables, and graphic devices, a time-saving systematic procedure for the computation of bi-serial correlation co-efficients is outlined for application to the evaluation of items of a test.\t1936\n",
      "A table of z for arguments ofp=.000 top=.999 is given.\t1936\n",
      "Four methods of factorizing the fundamental matrices used in factor analysis are described and illustrated.\t1936\n",
      "The first is represented by the techniques already developed.\t1936\n",
      "The second is the obverse factor technique.\t1936\n",
      "The third and fourth methods are variants of the first and second.\t1936\n",
      "The implications of each method for different schools of psychology are pointed out.\t1936\n",
      "The methods are complementary, not competitive.\t1936\n",
      "In continuation of a previous paper, a mechanism of delayed reflexes is considered more in detail.\t1936\n",
      "Equations governing such a mechanism are established and approximately solved.\t1936\n",
      "The formulae thus obtained describe the phenomenon of concentration of a conditioned reflex around a definite time interval after stimulation.\t1936\n",
      "Applied along the lines discussed in the previous paper to some simple combinations of stimuli and responses the formulae lead to a description of the elimination of errors by trial.\t1936\n",
      "They give a relation between the number of repetitions, necessary to eliminate a wrong act, and other constants, describing the situation.\t1936\n",
      "In continuation of a previous paper, some consequences of the fundamental equations established there are studied.\t1936\n",
      "For some simple hypothetical cases it is shown how some of the parameters which enter in the equations governing the structure of the social group can be determined by means of those equations from actually observable data.\t1936\n",
      "Furthermore some general properties of the variation with respect to time of the fundamental distribution function, which enters in the equations, are derived.\t1936\n",
      "Several theorems concerning properties of the communaltiy of a test in the Thurstone multiple factor theory are established.\t1936\n",
      "The following theorems are applicable to a battery ofn tests which are describable in terms ofr common factors, with orthogonal reference vectors.\t1936\n",
      "\n",
      "Statistics and journal percentages written to output/sentence_stats.txt\n"
     ]
    }
   ],
   "source": [
    "%run step3_get_summary_stats.py"
   ]
  },
  {
   "cell_type": "markdown",
   "metadata": {},
   "source": [
    "## Step 5: Filter the corpus for lines containing the targets"
   ]
  },
  {
   "cell_type": "code",
   "execution_count": 1,
   "metadata": {},
   "outputs": [
    {
     "name": "stderr",
     "output_type": "stream",
     "text": [
      "[nltk_data] Downloading package punkt to\n",
      "[nltk_data]     C:\\Users\\naomi\\AppData\\Roaming\\nltk_data...\n",
      "[nltk_data]   Package punkt is already up-to-date!\n"
     ]
    },
    {
     "name": "stdout",
     "output_type": "stream",
     "text": [
      "Processing C:/Users/naomi/OneDrive/COMP80004_PhDResearch/RESEARCH/DATA/CORPORA/Psychology/abstract_year_journal.csv.mental.sentence-CLEAN.tsv for target term: mental_health in natural corpus\n",
      "Lines containing 'mental_health' written to: output/natural_lines_targets\\mental_health.lines.psych (43771 sentences)\n",
      "Processing C:/Users/naomi/OneDrive/COMP80004_PhDResearch/RESEARCH/DATA/CORPORA/Psychology/abstract_year_journal.csv.mental.sentence-CLEAN.tsv for target term: mental_illness in natural corpus\n",
      "Lines containing 'mental_illness' written to: output/natural_lines_targets\\mental_illness.lines.psych (5806 sentences)\n",
      "Processing C:/Users/naomi/OneDrive/COMP80004_PhDResearch/RESEARCH/DATA/CORPORA/Psychology/abstract_year_journal.csv.mental.sentence-CLEAN.tsv for target term: trauma in natural corpus\n",
      "Lines containing 'trauma' written to: output/natural_lines_targets\\trauma.lines.psych (20236 sentences)\n",
      "Processing C:/Users/naomi/OneDrive/COMP80004_PhDResearch/RESEARCH/DATA/CORPORA/Psychology/abstract_year_journal.csv.mental.sentence-CLEAN.tsv for target term: abuse in natural corpus\n",
      "Lines containing 'abuse' written to: output/natural_lines_targets\\abuse.lines.psych (44941 sentences)\n",
      "Processing C:/Users/naomi/OneDrive/COMP80004_PhDResearch/RESEARCH/DATA/CORPORA/Psychology/abstract_year_journal.csv.mental.sentence-CLEAN.tsv for target term: anxiety in natural corpus\n",
      "Lines containing 'anxiety' written to: output/natural_lines_targets\\anxiety.lines.psych (100273 sentences)\n",
      "Processing C:/Users/naomi/OneDrive/COMP80004_PhDResearch/RESEARCH/DATA/CORPORA/Psychology/abstract_year_journal.csv.mental.sentence-CLEAN.tsv for target term: depression in natural corpus\n",
      "Lines containing 'depression' written to: output/natural_lines_targets\\depression.lines.psych (112942 sentences)\n",
      "Processing complete.\n"
     ]
    }
   ],
   "source": [
    "%run step4_get_sentences_target.py"
   ]
  },
  {
   "cell_type": "code",
   "execution_count": null,
   "metadata": {},
   "outputs": [],
   "source": [
    "# End of notebook"
   ]
  }
 ],
 "metadata": {
  "kernelspec": {
   "display_name": "Python (myenv)",
   "language": "python",
   "name": "myenv"
  },
  "language_info": {
   "codemirror_mode": {
    "name": "ipython",
    "version": 3
   },
   "file_extension": ".py",
   "mimetype": "text/x-python",
   "name": "python",
   "nbconvert_exporter": "python",
   "pygments_lexer": "ipython3",
   "version": "3.11.4"
  }
 },
 "nbformat": 4,
 "nbformat_minor": 2
}

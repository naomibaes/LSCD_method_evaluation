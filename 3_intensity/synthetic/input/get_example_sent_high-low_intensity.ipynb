{
 "cells": [
  {
   "cell_type": "markdown",
   "metadata": {},
   "source": [
    "### Isnpiration for example sentences, to model off corpus as closely as possible.\n"
   ]
  },
  {
   "cell_type": "markdown",
   "metadata": {},
   "source": [
    "# Sentence Generation Prompt for Psychological Concepts - Academic\n",
    "\n",
    "**Intensity** refers to whether a word's meaning evolves to describe phenomena that are more emotionally or referentially intense (e.g., extreme stress, severe harm) or less intense (e.g., mild discomfort, minor challenges). This may reflect a shift in how the target term is used to convey severity, urgency, or emotional impact in psychological contexts.\n",
    "\n",
    "### Task\n",
    "For each **target term**, create five sets of sentences, with three versions for each set:\n",
    "1. **Baseline**: A neutral sentence, typical of scientific abstracts.\n",
    "2. **High Intensity**: A version where the target term’s meaning reflects more severe, extreme, or impactful phenomena.\n",
    "3. **Low Intensity**: A version where the target term’s meaning reflects milder, more moderate, or less impactful phenomena.\n",
    "\n",
    "### Guidelines\n",
    "- Reflect **how the meaning or application of the target term itself changes** in intensity.\n",
    "- Focus on **emotional and psychological contexts** without using experimental or clinical jargon.\n",
    "- Maintain the tone and structure of academic abstracts.\n",
    "- Emphasize **lexical semantic change** by showing shifts in how the term is applied to increasingly intense or less intense phenomena.\n",
    "- Sentences must contain the target word as is, and must not contain any morphological inflections (e.g., depressive instead of depression)\n",
    "\n",
    "### Output Format\n",
    "The output should be in **CSV format** with the following columns:\n",
    "- `target`\n",
    "- `baseline`\n",
    "- `high_intensity`\n",
    "- `low_intensity`\n",
    "\n",
    "The first row should be the column headers. Each sentence set should be arranged in rows, where the baseline, high intensity, and low intensity versions correspond to the same context.\n",
    "\n",
    "### Example\n",
    "```csv\n",
    "target,baseline,high_intensity,low_intensity\n",
    "trauma,The study examined the psychological effects of trauma in adolescents.,The study highlighted how trauma often leads to profound and life-altering psychological devastation in adolescents.,The study explored how trauma may result in mild psychological discomfort or temporary stress in adolescents.\n",
    "```\n",
    "\n",
    "### Target Terms\n",
    "Use the following target terms:\n",
    "- `abuse`\n",
    "- `anxiety`\n",
    "- `depression`\n",
    "- `mental_health`\n",
    "- `mental_illness`\n",
    "- `trauma`\n",
    "\n",
    "Generate five complete sets for one target term."
   ]
  },
  {
   "cell_type": "markdown",
   "metadata": {},
   "source": [
    "# Sentence Generation Prompt for Psychological Concepts - General\n",
    "\n",
    "**Intensity** refers to whether a word's meaning evolves to describe phenomena that are more emotionally or referentially intense (e.g., extreme stress, severe harm) or less intense (e.g., mild discomfort, minor challenges). This may reflect a shift in how the target term is used in everyday contexts to convey severity, urgency, or emotional impact.\n",
    "\n",
    "### Task\n",
    "For each **target term**, create **five sets of sentences**, with three versions for each set:\n",
    "1. **Baseline**: A neutral sentence, typical of everyday language.  \n",
    "2. **High Intensity**: A version where the target term’s meaning reflects more severe, extreme, or impactful phenomena.  \n",
    "3. **Low Intensity**: A version where the target term’s meaning reflects milder, more moderate, or less impactful phenomena.  \n",
    "\n",
    "### Guidelines\n",
    "- Reflect **how the meaning or application of the target term itself changes** in intensity.\n",
    "- Use natural, relatable language that an average person would understand.\n",
    "- Avoid technical or scientific jargon.\n",
    "- Focus on real-life situations and accessible language, rather than abstract or theoretical concepts.\n",
    "\n",
    "### Output Format\n",
    "The output should be in **CSV format** with the following columns:\n",
    "- `target`\n",
    "- `baseline`\n",
    "- `high_intensity`\n",
    "- `low_intensity`\n",
    "\n",
    "The first row should be the column headers. Each sentence set should be arranged in rows, where the baseline, high intensity, and low intensity versions correspond to the same context.\n",
    "\n",
    "### Example\n",
    "```csv\n",
    "target,baseline,high_intensity,low_intensity\n",
    "trauma,They talked about the trauma they experienced after the car accident.,The trauma left them deeply scarred and struggling to move forward.,The trauma was mild, and they recovered quickly after a short time.\n",
    "```\n",
    "\n",
    "### Target Terms\n",
    "Use the following target terms:\n",
    "- `abuse`\n",
    "- `anxiety`\n",
    "- `depression`\n",
    "- `mental_health`\n",
    "- `mental_illness`\n",
    "- `trauma`\n",
    "\n",
    "Generate five complete sets for one target term."
   ]
  },
  {
   "cell_type": "markdown",
   "metadata": {},
   "source": [
    "# Sentence Generation Prompt for Psychological Concepts - General\n",
    "\n",
    "Sentiment is a word’s acquisition of a more positive or negative connotation. Generate realistic, gold-standard examples of sentences for specific psychological or mental health concepts in a conversational or everyday style.\n",
    "\n",
    "For each **target term**, create **five sets of sentences**, with three versions for each set:\n",
    "1. A **baseline** sentence (neutral in tone, typical of everyday language).  \n",
    "2. A **positive sentiment** version (highlighting resilience, improvement, or recovery).  \n",
    "3. A **negative sentiment** version (emphasizing challenges, harm, or adverse outcomes).  \n",
    "\n",
    "The sentences should adhere to the following guidelines:\n",
    "- Reflect common emotional or psychological contexts.\n",
    "- Use natural, relatable language that an average person would understand.\n",
    "- Avoid technical or scientific jargon.\n",
    "- Focus on real-life situations and accessible language, rather than abstract or theoretical concepts.\n",
    "\n",
    "The output should be in **CSV format** with the following columns:  \n",
    "`target, baseline, positive, negative`  \n",
    "\n",
    "The first row should be the column headers. Each sentence set should be arranged in rows, where the baseline, positive, and negative versions correspond to the same context.\n",
    "\n",
    "### Example Format:\n",
    "```\n",
    "target,baseline,positive,negative \n",
    "abuse,The argument became heated, and emotional abuse was mentioned as a concern.,They overcame the emotional abuse and found happiness again.,The emotional abuse left them feeling hopeless and broken.\n",
    "```\n",
    "\n",
    "### Target Terms\n",
    "Use the following target terms: `abuse, anxiety, depression, mental_health, mental_disorder, trauma`. \n",
    "\n",
    "Ensure the output is formatted correctly and ready to be copied into a spreadsheet."
   ]
  },
  {
   "cell_type": "markdown",
   "metadata": {},
   "source": [
    "Get random high and low sentiment sentences from corpus for LLM input for each target to model examples off"
   ]
  },
  {
   "cell_type": "code",
   "execution_count": 1,
   "metadata": {},
   "outputs": [
    {
     "name": "stderr",
     "output_type": "stream",
     "text": [
      "c:\\Users\\naomi\\anaconda3\\Lib\\site-packages\\pandas\\core\\arrays\\masked.py:60: UserWarning: Pandas requires version '1.3.6' or newer of 'bottleneck' (version '1.3.5' currently installed).\n",
      "  from pandas.core import (\n"
     ]
    },
    {
     "name": "stdout",
     "output_type": "stream",
     "text": [
      "Processing file: C:\\Users\\naomi\\OneDrive\\COMP80004_PhDResearch\\RESEARCH\\PROJECTS\\3_evaluation+validation - ACL 2025\\ICL\\0.0_corpus_preprocessing\\output\\natural_lines_targets\\abuse.lines.psych\n",
      "Saved high/low arousal sentences for abuse to c:\\Users\\naomi\\OneDrive\\COMP80004_PhDResearch\\RESEARCH\\PROJECTS\\3_evaluation+validation - ACL 2025\\ICL\\3_intensity\\synthetic\\input\\example_inspiration\\abuse_high_low_arousal.csv.\n",
      "Total sentences processed for abuse: 45288\n",
      "Processing file: C:\\Users\\naomi\\OneDrive\\COMP80004_PhDResearch\\RESEARCH\\PROJECTS\\3_evaluation+validation - ACL 2025\\ICL\\0.0_corpus_preprocessing\\output\\natural_lines_targets\\anxiety.lines.psych\n",
      "Saved high/low arousal sentences for anxiety to c:\\Users\\naomi\\OneDrive\\COMP80004_PhDResearch\\RESEARCH\\PROJECTS\\3_evaluation+validation - ACL 2025\\ICL\\3_intensity\\synthetic\\input\\example_inspiration\\anxiety_high_low_arousal.csv.\n",
      "Total sentences processed for anxiety: 105023\n",
      "Processing file: C:\\Users\\naomi\\OneDrive\\COMP80004_PhDResearch\\RESEARCH\\PROJECTS\\3_evaluation+validation - ACL 2025\\ICL\\0.0_corpus_preprocessing\\output\\natural_lines_targets\\depression.lines.psych\n",
      "Saved high/low arousal sentences for depression to c:\\Users\\naomi\\OneDrive\\COMP80004_PhDResearch\\RESEARCH\\PROJECTS\\3_evaluation+validation - ACL 2025\\ICL\\3_intensity\\synthetic\\input\\example_inspiration\\depression_high_low_arousal.csv.\n",
      "Total sentences processed for depression: 115466\n",
      "Processing file: C:\\Users\\naomi\\OneDrive\\COMP80004_PhDResearch\\RESEARCH\\PROJECTS\\3_evaluation+validation - ACL 2025\\ICL\\0.0_corpus_preprocessing\\output\\natural_lines_targets\\mental_health.lines.psych\n",
      "Saved high/low arousal sentences for mental_health to c:\\Users\\naomi\\OneDrive\\COMP80004_PhDResearch\\RESEARCH\\PROJECTS\\3_evaluation+validation - ACL 2025\\ICL\\3_intensity\\synthetic\\input\\example_inspiration\\mental_health_high_low_arousal.csv.\n",
      "Total sentences processed for mental_health: 44107\n",
      "Processing file: C:\\Users\\naomi\\OneDrive\\COMP80004_PhDResearch\\RESEARCH\\PROJECTS\\3_evaluation+validation - ACL 2025\\ICL\\0.0_corpus_preprocessing\\output\\natural_lines_targets\\mental_illness.lines.psych\n",
      "Saved high/low arousal sentences for mental_illness to c:\\Users\\naomi\\OneDrive\\COMP80004_PhDResearch\\RESEARCH\\PROJECTS\\3_evaluation+validation - ACL 2025\\ICL\\3_intensity\\synthetic\\input\\example_inspiration\\mental_illness_high_low_arousal.csv.\n",
      "Total sentences processed for mental_illness: 5821\n",
      "Processing file: C:\\Users\\naomi\\OneDrive\\COMP80004_PhDResearch\\RESEARCH\\PROJECTS\\3_evaluation+validation - ACL 2025\\ICL\\0.0_corpus_preprocessing\\output\\natural_lines_targets\\trauma.lines.psych\n",
      "Saved high/low arousal sentences for trauma to c:\\Users\\naomi\\OneDrive\\COMP80004_PhDResearch\\RESEARCH\\PROJECTS\\3_evaluation+validation - ACL 2025\\ICL\\3_intensity\\synthetic\\input\\example_inspiration\\trauma_high_low_arousal.csv.\n",
      "Total sentences processed for trauma: 23185\n",
      "All processing complete.\n"
     ]
    }
   ],
   "source": [
    "%run get_example_sent_high-low_intensity.py"
   ]
  },
  {
   "cell_type": "code",
   "execution_count": null,
   "metadata": {},
   "outputs": [],
   "source": []
  }
 ],
 "metadata": {
  "kernelspec": {
   "display_name": "Python (myenv)",
   "language": "python",
   "name": "myenv"
  },
  "language_info": {
   "codemirror_mode": {
    "name": "ipython",
    "version": 3
   },
   "file_extension": ".py",
   "mimetype": "text/x-python",
   "name": "python",
   "nbconvert_exporter": "python",
   "pygments_lexer": "ipython3",
   "version": "3.11.4"
  }
 },
 "nbformat": 4,
 "nbformat_minor": 2
}

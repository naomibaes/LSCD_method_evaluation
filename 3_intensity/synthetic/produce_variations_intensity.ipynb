{
 "cells": [
  {
   "cell_type": "markdown",
   "metadata": {},
   "source": [
    "### Producing Sentiment variations using LLMs\n",
    "\n",
    "Author: Raphael Merx\n",
    "Input: a baseline sentence; Output: variations of this sentence where a target word is more or less intense"
   ]
  },
  {
   "cell_type": "code",
   "execution_count": 1,
   "metadata": {},
   "outputs": [],
   "source": [
    "#pip install simplemind python-dotenv"
   ]
  },
  {
   "cell_type": "code",
   "execution_count": 2,
   "metadata": {},
   "outputs": [],
   "source": [
    "from dotenv import load_dotenv\n",
    "load_dotenv()\n",
    "\n",
    "from dataclasses import dataclass\n",
    "from tqdm import tqdm\n",
    "import simplemind as sm\n",
    "from typing import Literal, List\n",
    "import pandas as pd\n",
    "import os\n",
    "import random\n",
    "\n",
    "random.seed(42)\n",
    "\n",
    "TARGET_WORD_CHOICES = Literal['abuse', 'anxiety', 'depression', 'mental_health', 'mental_illness', 'trauma']\n",
    "\n",
    "TARGET_WORD: TARGET_WORD_CHOICES = 'mental_illness'\n",
    "TARGET_WORD_HUMAN = TARGET_WORD.replace('_', ' ')\n",
    "\n",
    "MAX_BASELINES = 10\n",
    "\n",
    "# can be changed to gemini, see https://pypi.org/project/simplemind/\n",
    "PROVIDER = \"openai\"\n",
    "MODEL = \"gpt-4o\""
   ]
  },
  {
   "cell_type": "markdown",
   "metadata": {},
   "source": [
    "Get neutral sentences from corpus for LLM input for each target\n",
    "\n",
    "**Aim**: This script processes text files containing sentences for specified target terms, calculates sentence-level mean arousal scores using the NRC-VAD lexicon, identifies \n",
    "sentences with neutral arousal scores (dynamically globally determined from NRC-VAD dataset), and saves these sentences along with their metadata to output files in the output folder."
   ]
  },
  {
   "cell_type": "code",
   "execution_count": 3,
   "metadata": {},
   "outputs": [
    {
     "name": "stdout",
     "output_type": "stream",
     "text": [
      "Dynamic neutral arousal range: (np.float64(0.47), np.float64(0.49))\n",
      "Processing file: /Users/rmerx/projects/naomi-ICL/0.0_corpus_preprocessing/output/natural_lines_targets/abuse.lines.psych\n",
      "Saved neutral arousal sentences for abuse to /Users/rmerx/projects/naomi-ICL/3_intensity/synthetic/input/baselines/abuse_neutral_baselines_intensity.csv.\n",
      "Total neutral sentences for abuse: 4262\n",
      "Processing file: /Users/rmerx/projects/naomi-ICL/0.0_corpus_preprocessing/output/natural_lines_targets/anxiety.lines.psych\n",
      "Saved neutral arousal sentences for anxiety to /Users/rmerx/projects/naomi-ICL/3_intensity/synthetic/input/baselines/anxiety_neutral_baselines_intensity.csv.\n",
      "Total neutral sentences for anxiety: 12318\n",
      "Processing file: /Users/rmerx/projects/naomi-ICL/0.0_corpus_preprocessing/output/natural_lines_targets/depression.lines.psych\n",
      "Saved neutral arousal sentences for depression to /Users/rmerx/projects/naomi-ICL/3_intensity/synthetic/input/baselines/depression_neutral_baselines_intensity.csv.\n",
      "Total neutral sentences for depression: 15132\n",
      "Processing file: /Users/rmerx/projects/naomi-ICL/0.0_corpus_preprocessing/output/natural_lines_targets/mental_health.lines.psych\n",
      "Saved neutral arousal sentences for mental_health to /Users/rmerx/projects/naomi-ICL/3_intensity/synthetic/input/baselines/mental_health_neutral_baselines_intensity.csv.\n",
      "Total neutral sentences for mental_health: 5424\n",
      "Processing file: /Users/rmerx/projects/naomi-ICL/0.0_corpus_preprocessing/output/natural_lines_targets/mental_illness.lines.psych\n",
      "Saved neutral arousal sentences for mental_illness to /Users/rmerx/projects/naomi-ICL/3_intensity/synthetic/input/baselines/mental_illness_neutral_baselines_intensity.csv.\n",
      "Total neutral sentences for mental_illness: 680\n",
      "Processing file: /Users/rmerx/projects/naomi-ICL/0.0_corpus_preprocessing/output/natural_lines_targets/trauma.lines.psych\n",
      "Saved neutral arousal sentences for trauma to /Users/rmerx/projects/naomi-ICL/3_intensity/synthetic/input/baselines/trauma_neutral_baselines_intensity.csv.\n",
      "Total neutral sentences for trauma: 2588\n",
      "All processing complete.\n"
     ]
    }
   ],
   "source": [
    "%run step0_get_neutral_baselines_intensity.py"
   ]
  },
  {
   "cell_type": "markdown",
   "metadata": {},
   "source": [
    "Setup examples to inject in the prompt"
   ]
  },
  {
   "cell_type": "code",
   "execution_count": 8,
   "metadata": {},
   "outputs": [
    {
     "name": "stdout",
     "output_type": "stream",
     "text": [
      "Loaded 5 examples for the term 'mental_illness'\n"
     ]
    }
   ],
   "source": [
    "# This code sets up examples of baseline sentences and their intensity-modified variations (more and less intense) to provide context and guidance for the LLM. \n",
    "# These examples are formatted into a structured prompt to help the model understand how to generate intensity-modified variations for new sentences.\n",
    "\n",
    "@dataclass\n",
    "class Example:\n",
    "    baseline: str\n",
    "    more_intense: str\n",
    "    less_intense: str\n",
    "\n",
    "    def format_for_prompt(self):\n",
    "        return f\"\"\"<baseline>\n",
    "{self.baseline}\n",
    "</baseline>\n",
    "<increased {TARGET_WORD_HUMAN} intensity>\n",
    "{self.more_intense}\n",
    "</increased {TARGET_WORD_HUMAN} intensity>\n",
    "<decreased {TARGET_WORD_HUMAN} intensity>\n",
    "{self.less_intense}\n",
    "</decreased {TARGET_WORD_HUMAN} intensity>\n",
    "\"\"\"\n",
    "\n",
    "    @staticmethod\n",
    "    def read_example_data(word: TARGET_WORD_CHOICES) -> pd.DataFrame:\n",
    "        filepath = os.path.join('input', f'intensity_example_sentences.xlsx')\n",
    "        # read to a dataframe\n",
    "        df = pd.read_excel(filepath)\n",
    "        # filter rows where `target` column is equal to the `word` argument\n",
    "        df = df[df['target'] == word]\n",
    "        print(f\"Loaded {len(df)} examples for the term '{word}'\")\n",
    "        return df\n",
    "\n",
    "example_data = Example.read_example_data(TARGET_WORD)\n",
    "\n",
    "EXAMPLES = [\n",
    "    Example(\n",
    "        baseline=row['baseline'],\n",
    "        more_intense=row['high_intensity'],\n",
    "        less_intense=row['low_intensity']\n",
    "    )\n",
    "    for _, row in example_data.iterrows()\n",
    "]\n",
    "\n",
    "PROMPT_INTRO = f\"\"\"In psychology lexicographic research, we define \"intensity\" as the \"extent to which a word refers to more emotionally or referentially intense phenomena\". Here we study the intensity of the word \"{TARGET_WORD_HUMAN}\"\n",
    "You will be given a sentence with the word \"{TARGET_WORD_HUMAN}\" in it. You will then be asked to write two new sentences: one where the word \"{TARGET_WORD_HUMAN}\" is more intense, and one where it is less intense.\n",
    "\n",
    "\"\"\"\n"
   ]
  },
  {
   "cell_type": "code",
   "execution_count": 20,
   "metadata": {},
   "outputs": [
    {
     "name": "stdout",
     "output_type": "stream",
     "text": [
      "Loaded a total of 680 baseline sentences, sampling 10\n",
      "In psychology lexicographic research, we define \"intensity\" as the \"extent to which a word refers to more emotionally or referentially intense phenomena\". Here we study the intensity of the word \"mental illness\"\n",
      "You will be given a sentence with the word \"mental illness\" in it. You will then be asked to write two new sentences: one where the word \"mental illness\" is more intense, and one where it is less intense.\n",
      "\n",
      "<baseline>\n",
      "The study examined the prevalence of mental illness in urban populations.\n",
      "</baseline>\n",
      "<increased mental illness intensity>\n",
      "The study highlighted the staggering prevalence of severe mental illness in urban populations.\n",
      "</increased mental illness intensity>\n",
      "<decreased mental illness intensity>\n",
      "The study explored the relatively low prevalence of mild mental illness in urban populations.\n",
      "</decreased mental illness intensity>\n",
      "\n",
      "\n",
      "<baseline>\n",
      "The research analyzed the treatment of mental illness in clinical settings.\n",
      "</baseline>\n",
      "<increased mental illness intensity>\n",
      "The research analyzed the treatment of severe and chronic mental illness in clinical settings.\n",
      "</increased mental illness intensity>\n",
      "<decreased mental illness intensity>\n",
      "The research analyzed the treatment of mild and short-term mental illness in clinical settings.\n",
      "</decreased mental illness intensity>\n",
      "\n",
      "\n",
      "<baseline>\n",
      "The article discussed the stigma surrounding mental illness in society.\n",
      "</baseline>\n",
      "<increased mental illness intensity>\n",
      "The article discussed the pervasive stigma surrounding severe mental illness in society.\n",
      "</increased mental illness intensity>\n",
      "<decreased mental illness intensity>\n",
      "The article discussed the occasional stigma associated with mild mental illness in society.\n",
      "</decreased mental illness intensity>\n",
      "\n",
      "\n",
      "<baseline>\n",
      "The findings revealed patterns of mental illness among marginalized groups.\n",
      "</baseline>\n",
      "<increased mental illness intensity>\n",
      "The findings revealed patterns of extreme and untreated mental illness among marginalized groups.\n",
      "</increased mental illness intensity>\n",
      "<decreased mental illness intensity>\n",
      "The findings revealed patterns of manageable and partially treated mental illness among marginalized groups.\n",
      "</decreased mental illness intensity>\n",
      "\n",
      "\n",
      "<baseline>\n",
      "The investigation focused on mental illness and its impact on family dynamics.\n",
      "</baseline>\n",
      "<increased mental illness intensity>\n",
      "The investigation focused on the devastating impact of mental illness in disrupting family dynamics.\n",
      "</increased mental illness intensity>\n",
      "<decreased mental illness intensity>\n",
      "The investigation focused on the minor impact of mental illness in occasionally straining family dynamics.\n",
      "</decreased mental illness intensity>\n",
      "\n",
      "\n",
      "<baseline>\n",
      "Based on intergroup contact theory, a proposed comprehensive model of attitudes towards seeking professional psychological help was tested, including both potential barriers to mental_health help-seeking (i.e., public stigma and self-stigma of seeking help, prejudicial and essentialist beliefs about mental illness, intergroup anxiety) and potential facilitators (i.e., direct and extended contact with persons with mental illness).\n",
      "</baseline>\n",
      "\n"
     ]
    }
   ],
   "source": [
    "# This code chunk constructs a structured prompt by combining predefined examples with a new target sentence, queries an LLM to generate intensity-modified variations (more and less intense) \n",
    "# of the target sentence, and extracts the results for further analysis.\n",
    "\n",
    "@dataclass\n",
    "class SentenceToModify:\n",
    "    text: str\n",
    "    increased_variation: str = None\n",
    "    decreased_variation: str = None\n",
    "\n",
    "    def get_prompt(self):\n",
    "        prompt = PROMPT_INTRO\n",
    "        for example in EXAMPLES:\n",
    "            prompt += example.format_for_prompt()\n",
    "            prompt += \"\\n\\n\"\n",
    "        \n",
    "        prompt += f\"\"\"<baseline>\n",
    "{self.text}\n",
    "</baseline>\n",
    "\"\"\"\n",
    "        return prompt\n",
    "    \n",
    "    def parse_response(self, response: str):\n",
    "        # get the sentences inside <more {TARGET_WORD}> and <less {TARGET_WORD}>\n",
    "        self.increased_variation = response.split(f\"<increased {TARGET_WORD_HUMAN} intensity>\")[1].split(f\"</increased {TARGET_WORD_HUMAN} intensity>\")[0].strip()\n",
    "        self.decreased_variation = response.split(f\"<decreased {TARGET_WORD_HUMAN} intensity>\")[1].split(f\"</decreased {TARGET_WORD_HUMAN} intensity>\")[0].strip()\n",
    "        return self.increased_variation, self.decreased_variation\n",
    "\n",
    "    def get_variations(self) -> list[str]:\n",
    "        \"\"\" Returns a list of two strings: one where the TARGET_WORD is more intense, and one where it is less intense \"\"\"\n",
    "        assert TARGET_WORD_HUMAN in self.text, f\"word {TARGET_WORD_HUMAN} not found in {self.text}\"\n",
    "        prompt = self.get_prompt()\n",
    "        res = sm.generate_text(prompt=prompt, llm_provider=PROVIDER, llm_model=MODEL)\n",
    "        return self.parse_response(res)\n",
    "\n",
    "    @staticmethod\n",
    "    def load_baselines(word: TARGET_WORD_CHOICES) -> List[str]:\n",
    "        # find the baselines.csv file in the `input` folder\n",
    "        filepath = os.path.join('input', 'baselines', f'{word}_neutral_baselines_intensity.csv')\n",
    "        df = pd.read_csv(filepath)\n",
    "        # return the `sentence` column as a list\n",
    "        print(f\"Loaded a total of {len(df)} baseline sentences, sampling {MAX_BASELINES}\")\n",
    "        baselines = df['sentence'].tolist()\n",
    "        baselines = random.sample(baselines, MAX_BASELINES) if len(baselines) > MAX_BASELINES else baselines\n",
    "        baselines = [s.replace(TARGET_WORD, TARGET_WORD_HUMAN) for s in baselines]\n",
    "        return baselines\n",
    "    \n",
    "    @staticmethod\n",
    "    def save_sentences(sentences: List['SentenceToModify']):\n",
    "        output_file = os.path.join('output', f'{TARGET_WORD}_synthetic_sentences.csv')\n",
    "        df = pd.DataFrame([{'baseline': s.text, 'high_intensity': s.increased_variation, 'low_intensity': s.decreased_variation} for s in sentences])\n",
    "        df.to_csv(output_file, index=False)\n",
    "        print(f\"Saved {len(sentences)} sentences to {output_file}\")\n",
    "\n",
    "baselines = SentenceToModify.load_baselines(TARGET_WORD)\n",
    "sentence = SentenceToModify(text=baselines[0])\n",
    "print(sentence.get_prompt())"
   ]
  },
  {
   "cell_type": "code",
   "execution_count": 18,
   "metadata": {},
   "outputs": [
    {
     "name": "stderr",
     "output_type": "stream",
     "text": [
      "100%|██████████| 10/10 [00:24<00:00,  2.45s/it]"
     ]
    },
    {
     "name": "stdout",
     "output_type": "stream",
     "text": [
      "Saved 10 sentences to output/mental_illness_synthetic_sentences.csv\n"
     ]
    },
    {
     "name": "stderr",
     "output_type": "stream",
     "text": [
      "\n"
     ]
    }
   ],
   "source": [
    "sentences = []\n",
    "\n",
    "for baseline in tqdm(baselines):\n",
    "    sentence = SentenceToModify(text=baseline)\n",
    "    positive_variation, negative_variation = sentence.get_variations()\n",
    "    sentences.append(sentence)\n",
    "\n",
    "SentenceToModify.save_sentences(sentences)\n"
   ]
  }
 ],
 "metadata": {
  "kernelspec": {
   "display_name": ".venv",
   "language": "python",
   "name": "python3"
  },
  "language_info": {
   "codemirror_mode": {
    "name": "ipython",
    "version": 3
   },
   "file_extension": ".py",
   "mimetype": "text/x-python",
   "name": "python",
   "nbconvert_exporter": "python",
   "pygments_lexer": "ipython3",
   "version": "3.12.7"
  }
 },
 "nbformat": 4,
 "nbformat_minor": 2
}

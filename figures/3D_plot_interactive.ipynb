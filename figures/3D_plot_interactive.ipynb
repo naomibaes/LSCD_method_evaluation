{
 "cells": [
  {
   "cell_type": "markdown",
   "metadata": {},
   "source": [
    "Author: Naomi Baes and Chat GPT"
   ]
  },
  {
   "cell_type": "markdown",
   "metadata": {},
   "source": [
    "# 3D plots - interactive"
   ]
  },
  {
   "cell_type": "code",
   "execution_count": null,
   "metadata": {},
   "outputs": [],
   "source": [
    "import dash\n",
    "from dash import html, dcc, Input, Output, State\n",
    "\n",
    "# List of image paths\n",
    "image_paths = [\n",
    "    'plot_bootstrap_abuse_change-score.png',\n",
    "    'plot_bootstrap_anxiety_change-score.png',\n",
    "    'plot_bootstrap_depression_change-score.png',\n",
    "    'plot_bootstrap_mental_health_change-score.png',\n",
    "    'plot_bootstrap_mental_illness_change-score.png',\n",
    "    'plot_bootstrap_trauma_change-score.png'\n",
    "]\n",
    "\n",
    "# Initialize the Dash app\n",
    "app = dash.Dash(__name__)\n",
    "\n",
    "# Define the layout of the app\n",
    "app.layout = html.Div([\n",
    "    html.H1(\"Interactive Plot Gallery\"),\n",
    "    dcc.Graph(id='interactive-image', figure={}),\n",
    "    html.Button('Previous', id='btn-prev', n_clicks=0),\n",
    "    html.Button('Next', id='btn-next', n_clicks=0),\n",
    "    dcc.Store(id='image-index', data={'index': 0})\n",
    "])\n",
    "\n",
    "# Callback to update the image\n",
    "@app.callback(\n",
    "    Output('interactive-image', 'figure'),\n",
    "    Input('image-index', 'data'),\n",
    ")\n",
    "def update_image(data):\n",
    "    index = data['index']\n",
    "    return {\n",
    "        'data': [{'x': [0], 'y': [0], 'type': 'scatter', 'marker': {'opacity': 0}}],\n",
    "        'layout': {\n",
    "            'xaxis': {'visible': False},\n",
    "            'yaxis': {'visible': False},\n",
    "            'images': [{\n",
    "                'source': image_paths[index],\n",
    "                'xref': \"x\",\n",
    "                'yref': \"y\",\n",
    "                'x': 0,\n",
    "                'y': 0,\n",
    "                'sizex': 1,\n",
    "                'sizey': 1,\n",
    "                'sizing': \"stretch\",\n",
    "                'opacity': 1,\n",
    "                'layer': \"below\"\n",
    "            }]\n",
    "        }\n",
    "    }\n",
    "\n",
    "# Callback to increment or decrement the image index\n",
    "@app.callback(\n",
    "    Output('image-index', 'data'),\n",
    "    [Input('btn-next', 'n_clicks'),\n",
    "     Input('btn-prev', 'n_clicks')],\n",
    "    [State('image-index', 'data')]\n",
    ")\n",
    "def change_image(next_click, prev_click, data):\n",
    "    index = data['index']\n",
    "    changed_id = [p['prop_id'] for p in dash.callback_context.triggered][0]\n",
    "    if 'btn-next' in changed_id:\n",
    "        index = (index + 1) % len(image_paths)\n",
    "    elif 'btn-prev' in changed_id:\n",
    "        index = (index - 1) % len(image_paths)\n",
    "    return {'index': index}\n",
    "\n",
    "# Run the app\n",
    "if __name__ == '__main__':\n",
    "    app.run_server(debug=True)\n"
   ]
  },
  {
   "cell_type": "code",
   "execution_count": null,
   "metadata": {},
   "outputs": [],
   "source": []
  },
  {
   "cell_type": "markdown",
   "metadata": {},
   "source": [
    "# End of notebook"
   ]
  }
 ],
 "metadata": {
  "kernelspec": {
   "display_name": "base",
   "language": "python",
   "name": "python3"
  },
  "language_info": {
   "codemirror_mode": {
    "name": "ipython",
    "version": 3
   },
   "file_extension": ".py",
   "mimetype": "text/x-python",
   "name": "python",
   "nbconvert_exporter": "python",
   "pygments_lexer": "ipython3",
   "version": "3.11.4"
  }
 },
 "nbformat": 4,
 "nbformat_minor": 2
}

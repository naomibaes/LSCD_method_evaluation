{
 "cells": [
  {
   "cell_type": "markdown",
   "metadata": {},
   "source": [
    "# Statistical Analysis"
   ]
  },
  {
   "cell_type": "markdown",
   "metadata": {},
   "source": [
    "## 5-year"
   ]
  },
  {
   "cell_type": "code",
   "execution_count": 32,
   "metadata": {},
   "outputs": [
    {
     "name": "stdout",
     "output_type": "stream",
     "text": [
      "Successfully read data from CSV file.\n",
      "Positive Valence APD:\n",
      "             Term         0        20        40        60        80       100\n",
      "0           abuse  5.304623  5.365098  5.421544  5.466736  5.519245  5.605549\n",
      "1         anxiety  5.173116  5.234412  5.301330  5.371444  5.420379  5.488560\n",
      "2      depression  5.157802  5.221488  5.295465  5.351103  5.418109  5.477814\n",
      "3   mental_health  5.585507  5.643076  5.703986  5.760999  5.815156  5.868744\n",
      "4  mental_illness  5.376198  5.443374  5.514368  5.589131  5.665019  5.734439\n",
      "5          trauma  5.233352  5.307619  5.357179  5.410020  5.473221  5.537159\n",
      "\n",
      "Negative Valence APD:\n",
      "             Term         0        20        40        60        80       100\n",
      "0           abuse  5.304623  5.265875  5.237845  5.196028  5.153269  5.110017\n",
      "1         anxiety  5.173116  5.150851  5.130162  5.116039  5.083812  5.073043\n",
      "2      depression  5.157802  5.133266  5.116424  5.090301  5.074137  5.053441\n",
      "3   mental_health  5.585507  5.545559  5.513570  5.474043  5.436590  5.402534\n",
      "4  mental_illness  5.376198  5.327625  5.236376  5.253433  5.169023  5.128982\n",
      "5          trauma  5.233352  5.192285  5.167652  5.144115  5.121345  5.067605\n"
     ]
    }
   ],
   "source": [
    "%run step5_baseline_APD_analysis_5-year.py"
   ]
  },
  {
   "cell_type": "code",
   "execution_count": null,
   "metadata": {},
   "outputs": [],
   "source": [
    "%run step6_baseline_5-year_mem_analysis_positive.py"
   ]
  },
  {
   "cell_type": "code",
   "execution_count": null,
   "metadata": {},
   "outputs": [],
   "source": [
    "%run step6_baseline_5-year_mem_analysis_negative.py"
   ]
  },
  {
   "cell_type": "markdown",
   "metadata": {},
   "source": [
    "## all-year"
   ]
  },
  {
   "cell_type": "code",
   "execution_count": 31,
   "metadata": {},
   "outputs": [
    {
     "name": "stdout",
     "output_type": "stream",
     "text": [
      "Successfully read data from CSV file.\n",
      "             Term  APD_Positive  APD_Negative\n",
      "1         anxiety      0.169332      0.021861\n",
      "3   mental_health      0.155532      0.059502\n",
      "0          trauma      0.148755      0.070369\n",
      "4  mental_illness      0.141105      0.099133\n",
      "2      depression      0.137754      0.067755\n",
      "5           abuse      0.127623      0.088297\n"
     ]
    }
   ],
   "source": [
    "%run step5_baseline_APD_analysis_all-year.py"
   ]
  }
 ],
 "metadata": {
  "kernelspec": {
   "display_name": "base",
   "language": "python",
   "name": "python3"
  },
  "language_info": {
   "codemirror_mode": {
    "name": "ipython",
    "version": 3
   },
   "file_extension": ".py",
   "mimetype": "text/x-python",
   "name": "python",
   "nbconvert_exporter": "python",
   "pygments_lexer": "ipython3",
   "version": "3.11.4"
  }
 },
 "nbformat": 4,
 "nbformat_minor": 2
}

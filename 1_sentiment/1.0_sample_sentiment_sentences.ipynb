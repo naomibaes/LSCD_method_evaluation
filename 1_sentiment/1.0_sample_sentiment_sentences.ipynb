{
 "cells": [
  {
   "cell_type": "markdown",
   "metadata": {},
   "source": [
    "# Randomly sample sentences from natural and synthetic corpora with which to compute Sentiment \n",
    "\n",
    "Authors: Naomi Baes and Chat GPT\n",
    "\n",
    "Input:\n",
    "- Natural corpus: 0.0_corpus_preprocessing/output/natural_lines_targets/\"abuse_lines_targets\" etc.\n",
    "- Synthetic corpus: \n",
    "    1_sentiment/synthetic/output/5-year/\"abuse_1970-1974.synthetic_sentences.csv\" etc.\n",
    "    1_sentiment/synthetic/output/all-year/\"abuse_synthetic_sentences.csv\" etc.\n",
    "\n",
    "Output:\n",
    "- 5-year sampling strategy\n",
    "    5-year/negative/\"abuse_1970-1974_synthetic_sentiment_0.1.tsv\" etc.\n",
    "    5-year/positive/\"abuse_1970-1974_synthetic_sentiment_0.1.tsv\" etc.\n",
    "- all-year sampling strategy\n",
    "    5-year/negative/\"abuse_synthetic_sentiment_0.1.tsv\" etc.\n",
    "    5-year/positive/\"abuse_synthetic_sentiment_0.1.tsv\" etc."
   ]
  },
  {
   "cell_type": "code",
   "execution_count": 1,
   "metadata": {},
   "outputs": [
    {
     "name": "stderr",
     "output_type": "stream",
     "text": [
      "c:\\Users\\naomi\\anaconda3\\Lib\\site-packages\\pandas\\core\\arrays\\masked.py:60: UserWarning: Pandas requires version '1.3.6' or newer of 'bottleneck' (version '1.3.5' currently installed).\n",
      "  from pandas.core import (\n",
      "100%|██████████| 60/60 [00:46<00:00,  1.29it/s]\n"
     ]
    }
   ],
   "source": [
    "# Randomly sample using the random stratified sampling strategy (5-year intervals)\n",
    "%run step0_randomly_sample_sentences_5-year.py"
   ]
  },
  {
   "cell_type": "code",
   "execution_count": 1,
   "metadata": {},
   "outputs": [
    {
     "name": "stderr",
     "output_type": "stream",
     "text": [
      "c:\\Users\\naomi\\anaconda3\\Lib\\site-packages\\pandas\\core\\arrays\\masked.py:60: UserWarning: Pandas requires version '1.3.6' or newer of 'bottleneck' (version '1.3.5' currently installed).\n",
      "  from pandas.core import (\n",
      "100%|██████████| 6/6 [00:04<00:00,  1.35it/s]\n"
     ]
    }
   ],
   "source": [
    "# Randomly sample using the bootstrapped sampling strategy (whole corpus)\n",
    "%run step0_randomly_sample_sentences_all-year.py"
   ]
  }
 ],
 "metadata": {
  "kernelspec": {
   "display_name": "base",
   "language": "python",
   "name": "python3"
  },
  "language_info": {
   "codemirror_mode": {
    "name": "ipython",
    "version": 3
   },
   "file_extension": ".py",
   "mimetype": "text/x-python",
   "name": "python",
   "nbconvert_exporter": "python",
   "pygments_lexer": "ipython3",
   "version": "3.11.4"
  }
 },
 "nbformat": 4,
 "nbformat_minor": 2
}

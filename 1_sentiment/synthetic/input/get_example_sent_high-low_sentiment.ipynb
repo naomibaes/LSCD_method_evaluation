{
 "cells": [
  {
   "cell_type": "markdown",
   "metadata": {},
   "source": [
    "### Isnpiration for example sentences, to model off corpus as closely as possible.\n"
   ]
  },
  {
   "cell_type": "markdown",
   "metadata": {},
   "source": [
    "# Sentence Generation Prompt for Psychological Concepts - Academic\n",
    "\n",
    "Sentiment is a word’s acquisition of a more positive or negative connotation. Generate realistic, gold-standard examples of sentences for specific psychological or mental health concepts in a scientific, academic style.\n",
    "\n",
    "For each **target term**, create five sets of sentences, with three versions for each set:\n",
    "1. A **baseline** sentence (neutral in tone, typical of scientific abstracts).  \n",
    "2. A **positive sentiment** version (highlighting resilience, improvement, or recovery).  \n",
    "3. A **negative sentiment** version (emphasizing challenges, harm, or adverse outcomes).  \n",
    "\n",
    "The sentences should adhere to the following guidelines:\n",
    "- Reflect general emotional or psychological contexts.\n",
    "- Exclude experimental, clinical, or statistical jargon.\n",
    "- Maintain the tone and structure of academic abstracts.\n",
    "- Focus on broad social and psychological phenomena rather than technical specifics.\n",
    "- Sentences must contain the target word as is, and must not contain any morphological inflections (e.g., depressive instead of depression)\n",
    "\n",
    "The output should be in **CSV format** with the following columns:  \n",
    "`target, baseline, positive, negative`  \n",
    "\n",
    "The first row should be the column headers. Each sentence set should be arranged in rows, where the baseline, positive, and negative versions correspond to the same context.\n",
    "\n",
    "### Example Format:\n",
    "```\n",
    "target,baseline,positive,negative \n",
    "abuse,The study documented instances of verbal abuse within familial relationships.,The study highlighted the resilience of individuals who overcame verbal abuse within familial relationships.,The study revealed the detrimental impact of verbal abuse within familial relationships, including lasting psychological harm.\n",
    "```\n",
    "\n",
    "### Target Terms\n",
    "Use the following target terms: `abuse, anxiety, depression, mental_health, mental_illness, trauma`. \n",
    "\n",
    "Ensure the output is formatted correctly and ready to be copied into a spreadsheet.\n",
    "\n",
    "Generate five complete sets for one target term.\n"
   ]
  },
  {
   "cell_type": "markdown",
   "metadata": {},
   "source": [
    "# Sentence Generation Prompt for Psychological Concepts - General\n",
    "\n",
    "Sentiment is a word’s acquisition of a more positive or negative connotation. Generate realistic, gold-standard examples of sentences for specific psychological or mental health concepts in a conversational or everyday style.\n",
    "\n",
    "For each **target term**, create **five sets of sentences**, with three versions for each set:\n",
    "1. A **baseline** sentence (neutral in tone, typical of everyday language).  \n",
    "2. A **positive sentiment** version (highlighting resilience, improvement, or recovery).  \n",
    "3. A **negative sentiment** version (emphasizing challenges, harm, or adverse outcomes).  \n",
    "\n",
    "The sentences should adhere to the following guidelines:\n",
    "- Reflect common emotional or psychological contexts.\n",
    "- Use natural, relatable language that an average person would understand.\n",
    "- Avoid technical or scientific jargon.\n",
    "- Focus on real-life situations and accessible language, rather than abstract or theoretical concepts.\n",
    "- Sentences must contain the target word as is, and must not contain any morphological inflections (e.g., depressive instead of depression)\n",
    "\n",
    "The output should be in **CSV format** with the following columns:  \n",
    "`target, baseline, positive, negative`  \n",
    "\n",
    "The first row should be the column headers. Each sentence set should be arranged in rows, where the baseline, positive, and negative versions correspond to the same context.\n",
    "\n",
    "### Example Format:\n",
    "```\n",
    "target,baseline,positive,negative \n",
    "abuse,The argument became heated, and emotional abuse was mentioned as a concern.,They overcame the emotional abuse and found happiness again.,The emotional abuse left them feeling hopeless and broken.\n",
    "```\n",
    "\n",
    "### Target Terms\n",
    "Use the following target terms: `abuse, anxiety, depression, mental_health, mental_illness, trauma`. \n",
    "\n",
    "Ensure the output is formatted correctly and ready to be copied into a spreadsheet.\n",
    "Generate five complete sets for one target term."
   ]
  },
  {
   "cell_type": "markdown",
   "metadata": {},
   "source": [
    "Get random high and low sentiment sentences from corpus for LLM input for each target to model examples off"
   ]
  },
  {
   "cell_type": "code",
   "execution_count": 6,
   "metadata": {},
   "outputs": [
    {
     "name": "stdout",
     "output_type": "stream",
     "text": [
      "Processing file: C:\\Users\\naomi\\OneDrive\\COMP80004_PhDResearch\\RESEARCH\\PROJECTS\\3_evaluation+validation - ACL 2025\\ICL\\0.0_corpus_preprocessing\\output\\natural_lines_targets\\abuse.lines.psych\n",
      "Saved high/low sentiment sentences for abuse to c:\\Users\\naomi\\OneDrive\\COMP80004_PhDResearch\\RESEARCH\\PROJECTS\\3_evaluation+validation - ACL 2025\\ICL\\1_sentiment\\synthetic\\input\\example_inspiration\\abuse_high_low_sentiment.csv.\n",
      "Total sentences processed for abuse: 45288\n",
      "Processing file: C:\\Users\\naomi\\OneDrive\\COMP80004_PhDResearch\\RESEARCH\\PROJECTS\\3_evaluation+validation - ACL 2025\\ICL\\0.0_corpus_preprocessing\\output\\natural_lines_targets\\anxiety.lines.psych\n",
      "Saved high/low sentiment sentences for anxiety to c:\\Users\\naomi\\OneDrive\\COMP80004_PhDResearch\\RESEARCH\\PROJECTS\\3_evaluation+validation - ACL 2025\\ICL\\1_sentiment\\synthetic\\input\\example_inspiration\\anxiety_high_low_sentiment.csv.\n",
      "Total sentences processed for anxiety: 105023\n",
      "Processing file: C:\\Users\\naomi\\OneDrive\\COMP80004_PhDResearch\\RESEARCH\\PROJECTS\\3_evaluation+validation - ACL 2025\\ICL\\0.0_corpus_preprocessing\\output\\natural_lines_targets\\depression.lines.psych\n",
      "Saved high/low sentiment sentences for depression to c:\\Users\\naomi\\OneDrive\\COMP80004_PhDResearch\\RESEARCH\\PROJECTS\\3_evaluation+validation - ACL 2025\\ICL\\1_sentiment\\synthetic\\input\\example_inspiration\\depression_high_low_sentiment.csv.\n",
      "Total sentences processed for depression: 115466\n",
      "Processing file: C:\\Users\\naomi\\OneDrive\\COMP80004_PhDResearch\\RESEARCH\\PROJECTS\\3_evaluation+validation - ACL 2025\\ICL\\0.0_corpus_preprocessing\\output\\natural_lines_targets\\mental_health.lines.psych\n",
      "Saved high/low sentiment sentences for mental_health to c:\\Users\\naomi\\OneDrive\\COMP80004_PhDResearch\\RESEARCH\\PROJECTS\\3_evaluation+validation - ACL 2025\\ICL\\1_sentiment\\synthetic\\input\\example_inspiration\\mental_health_high_low_sentiment.csv.\n",
      "Total sentences processed for mental_health: 44107\n",
      "Processing file: C:\\Users\\naomi\\OneDrive\\COMP80004_PhDResearch\\RESEARCH\\PROJECTS\\3_evaluation+validation - ACL 2025\\ICL\\0.0_corpus_preprocessing\\output\\natural_lines_targets\\mental_illness.lines.psych\n",
      "Saved high/low sentiment sentences for mental_illness to c:\\Users\\naomi\\OneDrive\\COMP80004_PhDResearch\\RESEARCH\\PROJECTS\\3_evaluation+validation - ACL 2025\\ICL\\1_sentiment\\synthetic\\input\\example_inspiration\\mental_illness_high_low_sentiment.csv.\n",
      "Total sentences processed for mental_illness: 5821\n",
      "Processing file: C:\\Users\\naomi\\OneDrive\\COMP80004_PhDResearch\\RESEARCH\\PROJECTS\\3_evaluation+validation - ACL 2025\\ICL\\0.0_corpus_preprocessing\\output\\natural_lines_targets\\trauma.lines.psych\n",
      "Saved high/low sentiment sentences for trauma to c:\\Users\\naomi\\OneDrive\\COMP80004_PhDResearch\\RESEARCH\\PROJECTS\\3_evaluation+validation - ACL 2025\\ICL\\1_sentiment\\synthetic\\input\\example_inspiration\\trauma_high_low_sentiment.csv.\n",
      "Total sentences processed for trauma: 23185\n",
      "All processing complete.\n"
     ]
    }
   ],
   "source": [
    "%run get_example_sent_high-low_sentiment.py"
   ]
  },
  {
   "cell_type": "code",
   "execution_count": null,
   "metadata": {},
   "outputs": [],
   "source": []
  }
 ],
 "metadata": {
  "kernelspec": {
   "display_name": "Python (myenv)",
   "language": "python",
   "name": "myenv"
  },
  "language_info": {
   "codemirror_mode": {
    "name": "ipython",
    "version": 3
   },
   "file_extension": ".py",
   "mimetype": "text/x-python",
   "name": "python",
   "nbconvert_exporter": "python",
   "pygments_lexer": "ipython3",
   "version": "3.11.4"
  }
 },
 "nbformat": 4,
 "nbformat_minor": 2
}

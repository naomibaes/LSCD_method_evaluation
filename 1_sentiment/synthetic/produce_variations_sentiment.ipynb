{
 "cells": [
  {
   "cell_type": "markdown",
   "metadata": {},
   "source": [
    "### Producing Sentiment variations using LLMs\n",
    "\n",
    "Author: Raphael Merx\n",
    "Input: a baseline sentence; Output: variations of this sentence where a target word has more positive or negative sentiment\n"
   ]
  },
  {
   "cell_type": "code",
   "execution_count": 6,
   "metadata": {},
   "outputs": [],
   "source": [
    "#pip install simplemind python-dotenv pandas openpyxl"
   ]
  },
  {
   "cell_type": "code",
   "execution_count": 7,
   "metadata": {},
   "outputs": [],
   "source": [
    "from dotenv import load_dotenv\n",
    "load_dotenv()\n",
    "\n",
    "from dataclasses import dataclass\n",
    "from tqdm import tqdm\n",
    "import simplemind as sm\n",
    "from typing import Literal, List\n",
    "import pandas as pd\n",
    "import os\n",
    "import random\n",
    "\n",
    "random.seed(42)\n",
    "\n",
    "\n",
    "TARGET_WORD_CHOICES = Literal['abuse', 'anxiety', 'depression', 'mental_health', 'mental_illness', 'trauma']\n",
    "TARGET_WORD: TARGET_WORD_CHOICES = 'mental_illness'\n",
    "TARGET_WORD_HUMAN = TARGET_WORD.replace('_', ' ') #Note:This is not needed unless there is a good reason as it makes it easier for processing down the line. \n",
    "\n",
    "# 1970-1974, ..., 2015-2019\n",
    "EPOCH_CHOICES = [f\"{y}-{y+4}\" for y in range(1970, 2020, 5)]\n",
    "EPOCH = EPOCH_CHOICES[1]\n",
    "\n",
    "MAX_BASELINES = 10\n",
    "\n",
    "# can be changed to gemini, see https://pypi.org/project/simplemind/\n",
    "PROVIDER = \"openai\"\n",
    "MODEL = \"gpt-4o\""
   ]
  },
  {
   "cell_type": "markdown",
   "metadata": {},
   "source": [
    "Get neutral baseline sentences from corpus for LLM input for each target\n",
    "\n",
    "- **Script 1 Aim**: This script computes sentence-level sentiment scores using the NRC-VAD lexicon for a corpus of target terms spanning 1970–2019. It dynamically determines neutral sentiment ranges for each 5-year epoch by expanding outward from the median sentiment score within the interquartile range (Q1–Q3) until at least 500 sentences are included, capped at 1500. The selected sentences are saved to CSV files for each target and epoch, and a summary file logs the dynamic ranges and counts.\n",
    "\n",
    "- **Script 2 Aim**: This script processes pre-saved baseline CSV files to calculate sentence counts by year and 5-year epochs for multiple target terms. It generates \"year_count_lines.csv\" and \"epoch_count_lines.csv\" summarizing these counts and creates an epoch-based bar plot visualizing sentence distributions across the specified epochs for each target."
   ]
  },
  {
   "cell_type": "code",
   "execution_count": 8,
   "metadata": {},
   "outputs": [],
   "source": [
    "#%run step0_get_neutral_baselines_sentiment.py\n",
    "#%run step1_plot_neutral_baselines_sentiment.py"
   ]
  },
  {
   "cell_type": "markdown",
   "metadata": {},
   "source": [
    "Setup examples to inject in the prompt"
   ]
  },
  {
   "cell_type": "code",
   "execution_count": 9,
   "metadata": {},
   "outputs": [
    {
     "name": "stdout",
     "output_type": "stream",
     "text": [
      "Loaded 5 examples for the term 'mental_illness'\n"
     ]
    }
   ],
   "source": [
    "@dataclass\n",
    "class Example:\n",
    "    baseline: str\n",
    "    positive_sentiment: str\n",
    "    negative_sentiment: str\n",
    "\n",
    "    def format_for_prompt(self):\n",
    "        return f\"\"\"<baseline>\n",
    "{self.baseline}\n",
    "</baseline>\n",
    "<positive {TARGET_WORD_HUMAN}>\n",
    "{self.positive_sentiment}\n",
    "</positive {TARGET_WORD_HUMAN}>\n",
    "<negative {TARGET_WORD_HUMAN}>\n",
    "{self.negative_sentiment}\n",
    "</negative {TARGET_WORD_HUMAN}>\n",
    "\"\"\"\n",
    "\n",
    "\n",
    "    @staticmethod\n",
    "    def read_example_data(word: TARGET_WORD_CHOICES) -> pd.DataFrame:\n",
    "        # find the sentiment_example_sentences.xlsx file in the `input` folder\n",
    "        filepath = os.path.join('input', f'sentiment_example_sentences.xlsx')\n",
    "        # read to a dataframe\n",
    "        df = pd.read_excel(filepath)\n",
    "        # filter rows where `target` column is equal to the `word` argument\n",
    "        df = df[df['target'] == word]\n",
    "        print(f\"Loaded {len(df)} examples for the term '{word}'\")\n",
    "        return df\n",
    "\n",
    "example_data = Example.read_example_data(TARGET_WORD)\n",
    "\n",
    "EXAMPLES = [\n",
    "    Example(\n",
    "        baseline=row['baseline'],\n",
    "        positive_sentiment=row['positive_sentiment'],\n",
    "        negative_sentiment=row['negative_sentiment']\n",
    "    )\n",
    "    for _, row in example_data.iterrows()\n",
    "]\n",
    "\n",
    "PROMPT_INTRO = f\"\"\"\n",
    "In psychology research, 'Sentiment' is defined as “a term’s acquisition of a more positive or negative connotation.” \n",
    "Here we study the sentiment of the term '{TARGET_WORD_HUMAN}'.\n",
    "\n",
    "You will be given a sentence with the term '{TARGET_WORD_HUMAN}' in it. Your task is to write two new sentences:\n",
    "- One where the term '{TARGET_WORD_HUMAN}' carries a more positive connotation.\n",
    "- One where the term '{TARGET_WORD_HUMAN}' carries a more negative connotation.\n",
    "\n",
    "Important Guidelines:\n",
    "- Retain the original structure and context of the baseline sentence as much as possible.\n",
    "- Make only small, targeted adjustments to alter the sentiment of the term '{TARGET_WORD_HUMAN}'.\n",
    "- Do not add or remove key concepts or introduce entirely new elements not implied in the baseline.\n",
    "- Do not replace the target term with another word.\n",
    "\"\"\"\n",
    "\n"
   ]
  },
  {
   "cell_type": "markdown",
   "metadata": {},
   "source": [
    "### NOTE: old prompt\n",
    "PROMPT_INTRO = f\"\"\"In psychology lexicographic research, we define \"sentiment\" as the \"a term’s acquisition of a more positive or negative connotation\". Here we study the sentiment of the term \"{TARGET_WORD_HUMAN}\"\n",
    "You will be given a sentence with the term \"{TARGET_WORD_HUMAN}\" in it. You will then be asked to write two new sentences: one where the term \"{TARGET_WORD_HUMAN}\" carries a more positive connotation, and one where it carries a more negative connotation."
   ]
  },
  {
   "cell_type": "code",
   "execution_count": null,
   "metadata": {},
   "outputs": [
    {
     "name": "stdout",
     "output_type": "stream",
     "text": [
      "Loaded a total of 63 baseline sentences, sampling 10\n",
      "\n",
      "In psychology research, 'Sentiment' is defined as “a term’s acquisition of a more positive or negative connotation.” \n",
      "Here we study the sentiment of the term 'mental illness'.\n",
      "\n",
      "You will be given a sentence with the term 'mental illness' in it. Your task is to write two new sentences:\n",
      "- One where the term 'mental illness' carries a more positive connotation.\n",
      "- One where the term 'mental illness' carries a more negative connotation.\n",
      "\n",
      "Important Guidelines:\n",
      "- Retain the original structure and context of the baseline sentence as much as possible.\n",
      "- Make only small, targeted adjustments to alter the sentiment of the term 'mental illness'.\n",
      "- Do not add or remove key concepts or introduce entirely new elements not implied in the baseline.\n",
      "- Do not replace the target term with another word.\n",
      "<baseline>\n",
      "Internet addiction (IA) is an emerging social and mental_health issue among youths.\n",
      "</baseline>\n",
      "<positive mental illness>\n",
      "Internet engagement (IE) is a rising social and mental_health issue among youths.\n",
      "</positive mental illness>\n",
      "<negative mental illness>\n",
      "Internet addiction (IA) is a looming social and mental_health disorder among youths.\n",
      "</negative mental illness>\n",
      "\n",
      "\n",
      "<baseline>\n",
      "Second, we asked to what extent suicides of older mentally ill persons are definitely created by their mental_illness.\n",
      "</baseline>\n",
      "<positive mental illness>\n",
      "Second, we asked to what extent suicides of older persons are definitely created by their mental_illness.\n",
      "</positive mental illness>\n",
      "<negative mental illness>\n",
      "Second, we asked to what extent suicides of older mentally ill persons are definitely made worse by their mental_illness.\n",
      "</negative mental illness>\n",
      "\n",
      "\n",
      "<baseline>\n",
      "It was found that rejection of the mentally ill in situations of social relations was linked to prior personal experience with mental_illness, perceived dangerousness of the mentally ill, and age of the survey respondent.\n",
      "</baseline>\n",
      "<positive mental illness>\n",
      "It was found that welcoming of people in situations of social relations was linked to prior positive personal experience with mental_illness, perceived safety of these people, and age of the survey respondent.\n",
      "</positive mental illness>\n",
      "<negative mental illness>\n",
      "It was found that rejection of the mentally ill in situations of social relations was linked to negative prior personal experience with mental_illness, perceived dangerousness of the mentally ill, and age of the survey respondent.\n",
      "</negative mental illness>\n",
      "\n",
      "\n",
      "<baseline>\n",
      "In over 50 of cases continuation of in-patient stay was necessitated by the severity of mental_illness.\n",
      "</baseline>\n",
      "<positive mental illness>\n",
      "In over 50 of cases continuation of stay in care was necessitated by the level of mental_illness.\n",
      "</positive mental illness>\n",
      "<negative mental illness>\n",
      "In over 50 of cases being restricted to hospital was necessitated by the severity of mental_illness.\n",
      "</negative mental illness>\n",
      "\n",
      "\n",
      "<baseline>\n",
      "Much controversy exists over the treatment of mental_illness and many critics argue that the exercise of medical authority results in the social control of the mentally ill.\n",
      "</baseline>\n",
      "<positive mental illness>\n",
      "Much conversation exists over the care of mental_illness and many writers argue that the medical authorities enhance the social enhancement of mental health.\n",
      "</positive mental illness>\n",
      "<negative mental illness>\n",
      "Much disagreement exists over the treatment of mental_illness and many critics argue that the abuse of medical tyranny results in the domination of the mentally ill.\n",
      "</negative mental illness>\n",
      "\n",
      "\n",
      "<baseline>\n",
      "Although the mentally ill were largely ignored in the Middle Ages, some of the basic attitudes related to the later treatment of mental illness can be traced to medieval times.\n",
      "</baseline>\n",
      "\n"
     ]
    }
   ],
   "source": [
    "@dataclass\n",
    "class SentenceToModify:\n",
    "    text: str\n",
    "    positive_variation: str = None\n",
    "    negative_variation: str = None\n",
    "\n",
    "    def get_prompt(self):\n",
    "        prompt = PROMPT_INTRO\n",
    "        for example in EXAMPLES:\n",
    "            prompt += example.format_for_prompt()\n",
    "            prompt += \"\\n\\n\"\n",
    "        \n",
    "        prompt += f\"\"\"<baseline>\n",
    "{self.text}\n",
    "</baseline>\n",
    "\"\"\"\n",
    "        return prompt\n",
    "    \n",
    "    def parse_response(self, response: str):\n",
    "        # get the sentences inside <positive {TARGET_WORD}> and <negative {TARGET_WORD}>\n",
    "        self.positive_variation = response.split(f\"<positive {TARGET_WORD_HUMAN}>\")[1].split(f\"</positive {TARGET_WORD_HUMAN}>\")[0].strip()\n",
    "        self.negative_variation = response.split(f\"<negative {TARGET_WORD_HUMAN}>\")[1].split(f\"</negative {TARGET_WORD_HUMAN}>\")[0].strip()\n",
    "        return self.positive_variation, self.negative_variation\n",
    "\n",
    "    def get_variations(self) -> list[str]:\n",
    "        \"\"\" Returns a list of two strings: one where the TARGET_WORD has a more positive connotation, and one where it has a more negative one. \"\"\"\n",
    "        assert TARGET_WORD_HUMAN in self.text, f\"TARGET_WORD {TARGET_WORD_HUMAN} not found in {self.text}\"\n",
    "        prompt = self.get_prompt()\n",
    "        res = sm.generate_text(prompt=prompt, llm_provider=PROVIDER, llm_model=MODEL)\n",
    "        return self.parse_response(res)\n",
    "\n",
    "    @staticmethod\n",
    "    def load_baselines(word: TARGET_WORD_CHOICES, epoch: EPOCH_CHOICES) -> List[str]:\n",
    "        # find the baselines.csv file in the `input` folder\n",
    "        filepath = os.path.join('input', 'baselines', f'{word}_{epoch}.baseline_1500_sentences.csv')\n",
    "        df = pd.read_csv(filepath)\n",
    "        # return the `sentence` column as a list\n",
    "        print(f\"Loaded a total of {len(df)} baseline sentences, sampling {MAX_BASELINES}\")\n",
    "        baselines = df['sentence'].tolist()\n",
    "        baselines = random.sample(baselines, MAX_BASELINES) if len(baselines) > MAX_BASELINES else baselines\n",
    "        baselines = [s.replace(TARGET_WORD, TARGET_WORD_HUMAN) for s in baselines]\n",
    "        return baselines\n",
    "    \n",
    "    @staticmethod\n",
    "    def save_sentences(sentences: List['SentenceToModify']):\n",
    "        output_file = os.path.join('output', f'{TARGET_WORD}_{EPOCH}.synthetic_sentences.csv')\n",
    "        df = pd.DataFrame([{'baseline': s.text, 'positive_variation': s.positive_variation, 'negative_variation': s.negative_variation} for s in sentences])\n",
    "        df.to_csv(output_file, index=False)\n",
    "        print(f\"Saved {len(sentences)} sentences to {output_file}\")\n",
    "    \n",
    "\n",
    "baselines = SentenceToModify.load_baselines(TARGET_WORD, EPOCH)\n",
    "sentence = SentenceToModify(text=baselines[0])\n",
    "print(sentence.get_prompt())"
   ]
  },
  {
   "cell_type": "code",
   "execution_count": 14,
   "metadata": {},
   "outputs": [
    {
     "name": "stderr",
     "output_type": "stream",
     "text": [
      "100%|██████████| 10/10 [00:22<00:00,  2.29s/it]"
     ]
    },
    {
     "name": "stdout",
     "output_type": "stream",
     "text": [
      "Saved 10 sentences to output/mental_illness_1975-1979.synthetic_sentences.csv\n"
     ]
    },
    {
     "name": "stderr",
     "output_type": "stream",
     "text": [
      "\n"
     ]
    }
   ],
   "source": [
    "sentences = []\n",
    "\n",
    "for baseline in tqdm(baselines):\n",
    "    sentence = SentenceToModify(text=baseline)\n",
    "    positive_variation, negative_variation = sentence.get_variations()\n",
    "    sentences.append(sentence)\n",
    "\n",
    "SentenceToModify.save_sentences(sentences)\n"
   ]
  },
  {
   "cell_type": "code",
   "execution_count": null,
   "metadata": {},
   "outputs": [],
   "source": [
    "# to launch the whole script, see below:\n",
    "\n",
    "# MAX_BASELINES = 10_000\n",
    "\n",
    "# for TARGET_WORD in TARGET_WORD_CHOICES:\n",
    "#     for EPOCH in EPOCH_CHOICES:\n",
    "#         baselines = SentenceToModify.load_baselines(TARGET_WORD, EPOCH)\n",
    "#         sentences = []\n",
    "#         for baseline in tqdm(baselines):\n",
    "#             sentence = SentenceToModify(text=baseline)\n",
    "#             positive_variation, negative_variation = sentence.get_variations()\n",
    "#             sentences.append(sentence)\n",
    "#         SentenceToModify.save_sentences(sentences)"
   ]
  }
 ],
 "metadata": {
  "kernelspec": {
   "display_name": ".venv",
   "language": "python",
   "name": "python3"
  },
  "language_info": {
   "codemirror_mode": {
    "name": "ipython",
    "version": 3
   },
   "file_extension": ".py",
   "mimetype": "text/x-python",
   "name": "python",
   "nbconvert_exporter": "python",
   "pygments_lexer": "ipython3",
   "version": "3.12.7"
  }
 },
 "nbformat": 4,
 "nbformat_minor": 2
}

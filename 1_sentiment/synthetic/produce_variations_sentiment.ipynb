{
 "cells": [
  {
   "cell_type": "markdown",
   "metadata": {},
   "source": [
    "### Producing Sentiment variations using LLMs\n",
    "\n",
    "Author: Raphael Merx\n",
    "Input: a baseline sentence; Output: variations of this sentence where a target word has more positive or negative sentiment\n"
   ]
  },
  {
   "cell_type": "code",
   "execution_count": 1,
   "metadata": {},
   "outputs": [],
   "source": [
    "#pip install simplemind python-dotenv"
   ]
  },
  {
   "cell_type": "code",
   "execution_count": 2,
   "metadata": {},
   "outputs": [],
   "source": [
    "from dotenv import load_dotenv\n",
    "load_dotenv()\n",
    "\n",
    "from dataclasses import dataclass\n",
    "import simplemind as sm\n",
    "\n",
    "TARGET_WORD = 'anxiety'\n",
    "#TARGET_WORDS = ['abuse', 'anxiety', 'depression', 'mental_health', 'mental_illness', 'trauma']\n",
    "\n",
    "# can be changed to gemini, see https://pypi.org/project/simplemind/\n",
    "PROVIDER = \"openai\"\n",
    "MODEL = \"gpt-4o\""
   ]
  },
  {
   "cell_type": "markdown",
   "metadata": {},
   "source": [
    "Get neutral sentences from corpus for LLM input for each target\n",
    "\n",
    "**Aim**: This script processes text files containing sentences for specified target terms, calculates sentence-level mean sentiment scores using the NRC-VAD lexicon, identifies \n",
    "sentences with neutral arousal scores (dynamically globally determined from NRC-VAD dataset), and saves these sentences along with their metadata to output files in the output folder."
   ]
  },
  {
   "cell_type": "code",
   "execution_count": 6,
   "metadata": {},
   "outputs": [
    {
     "name": "stderr",
     "output_type": "stream",
     "text": [
      "c:\\Users\\naomi\\anaconda3\\Lib\\site-packages\\pandas\\core\\arrays\\masked.py:60: UserWarning: Pandas requires version '1.3.6' or newer of 'bottleneck' (version '1.3.5' currently installed).\n",
      "  from pandas.core import (\n"
     ]
    },
    {
     "name": "stdout",
     "output_type": "stream",
     "text": [
      "Dynamic neutral sentiment range: (0.5, 0.521)\n",
      "Processing file: c:\\Users\\naomi\\OneDrive\\COMP80004_PhDResearch\\RESEARCH\\PROJECTS\\3_evaluation+validation - ACL 2025\\sentiment-breadth-intensity\\0.0_corpus_preprocessing\\output\\natural_lines_targets\\abuse.lines.psych\n",
      "Saved neutral sentiment sentences for abuse to c:\\Users\\naomi\\OneDrive\\COMP80004_PhDResearch\\RESEARCH\\PROJECTS\\3_evaluation+validation - ACL 2025\\sentiment-breadth-intensity\\1_sentiment\\synthetic\\input\\baselines\\abuse_neutral_baselines_sentiment.csv.\n",
      "Total neutral sentences for abuse: 4538\n",
      "Processing file: c:\\Users\\naomi\\OneDrive\\COMP80004_PhDResearch\\RESEARCH\\PROJECTS\\3_evaluation+validation - ACL 2025\\sentiment-breadth-intensity\\0.0_corpus_preprocessing\\output\\natural_lines_targets\\anxiety.lines.psych\n",
      "Saved neutral sentiment sentences for anxiety to c:\\Users\\naomi\\OneDrive\\COMP80004_PhDResearch\\RESEARCH\\PROJECTS\\3_evaluation+validation - ACL 2025\\sentiment-breadth-intensity\\1_sentiment\\synthetic\\input\\baselines\\anxiety_neutral_baselines_sentiment.csv.\n",
      "Total neutral sentences for anxiety: 10374\n",
      "Processing file: c:\\Users\\naomi\\OneDrive\\COMP80004_PhDResearch\\RESEARCH\\PROJECTS\\3_evaluation+validation - ACL 2025\\sentiment-breadth-intensity\\0.0_corpus_preprocessing\\output\\natural_lines_targets\\depression.lines.psych\n",
      "Saved neutral sentiment sentences for depression to c:\\Users\\naomi\\OneDrive\\COMP80004_PhDResearch\\RESEARCH\\PROJECTS\\3_evaluation+validation - ACL 2025\\sentiment-breadth-intensity\\1_sentiment\\synthetic\\input\\baselines\\depression_neutral_baselines_sentiment.csv.\n",
      "Total neutral sentences for depression: 11405\n",
      "Processing file: c:\\Users\\naomi\\OneDrive\\COMP80004_PhDResearch\\RESEARCH\\PROJECTS\\3_evaluation+validation - ACL 2025\\sentiment-breadth-intensity\\0.0_corpus_preprocessing\\output\\natural_lines_targets\\mental_health.lines.psych\n",
      "Saved neutral sentiment sentences for mental_health to c:\\Users\\naomi\\OneDrive\\COMP80004_PhDResearch\\RESEARCH\\PROJECTS\\3_evaluation+validation - ACL 2025\\sentiment-breadth-intensity\\1_sentiment\\synthetic\\input\\baselines\\mental_health_neutral_baselines_sentiment.csv.\n",
      "Total neutral sentences for mental_health: 1970\n",
      "Processing file: c:\\Users\\naomi\\OneDrive\\COMP80004_PhDResearch\\RESEARCH\\PROJECTS\\3_evaluation+validation - ACL 2025\\sentiment-breadth-intensity\\0.0_corpus_preprocessing\\output\\natural_lines_targets\\mental_illness.lines.psych\n",
      "Saved neutral sentiment sentences for mental_illness to c:\\Users\\naomi\\OneDrive\\COMP80004_PhDResearch\\RESEARCH\\PROJECTS\\3_evaluation+validation - ACL 2025\\sentiment-breadth-intensity\\1_sentiment\\synthetic\\input\\baselines\\mental_illness_neutral_baselines_sentiment.csv.\n",
      "Total neutral sentences for mental_illness: 403\n",
      "Processing file: c:\\Users\\naomi\\OneDrive\\COMP80004_PhDResearch\\RESEARCH\\PROJECTS\\3_evaluation+validation - ACL 2025\\sentiment-breadth-intensity\\0.0_corpus_preprocessing\\output\\natural_lines_targets\\trauma.lines.psych\n",
      "Saved neutral sentiment sentences for trauma to c:\\Users\\naomi\\OneDrive\\COMP80004_PhDResearch\\RESEARCH\\PROJECTS\\3_evaluation+validation - ACL 2025\\sentiment-breadth-intensity\\1_sentiment\\synthetic\\input\\baselines\\trauma_neutral_baselines_sentiment.csv.\n",
      "Total neutral sentences for trauma: 2399\n",
      "All processing complete.\n"
     ]
    }
   ],
   "source": [
    "%run step0_get_neutral_baselines_sentiment.py"
   ]
  },
  {
   "cell_type": "markdown",
   "metadata": {},
   "source": [
    "Setup examples to inject in the prompt"
   ]
  },
  {
   "cell_type": "code",
   "execution_count": null,
   "metadata": {},
   "outputs": [],
   "source": [
    "@dataclass\n",
    "class Example:\n",
    "    baseline: str\n",
    "    positive_sentiment: str\n",
    "    negative_sentiment: str\n",
    "\n",
    "    def format_for_prompt(self):\n",
    "        return f\"\"\"<baseline>\n",
    "{self.baseline}\n",
    "</baseline>\n",
    "<positive {TARGET_WORD}>\n",
    "{self.positive_sentiment}\n",
    "</positive {TARGET_WORD}>\n",
    "<negative {TARGET_WORD}>\n",
    "{self.negative_sentiment}\n",
    "</negative {TARGET_WORD}>\n",
    "\"\"\"\n",
    "\n",
    "EXAMPLES = [\n",
    "    Example(\n",
    "        baseline=\"In a 24-yr-old female patient with a 12-yr history of kleptomania, it appeared that the behavior was maintained because it reduced anxiety in relevant situations.\",\n",
    "        positive_sentiment=\"In a 24-yr-old female patient with a 12-yr history of kleptomania, it appeared that the behavior was maintained because it alleviated intense and overwhelming anxiety that pervaded her daily life.\",\n",
    "        negative_sentiment=\"In a 24-yr-old female patient with a 12-yr history of kleptomania, it appeared that the behavior was maintained because it relieved mild, occasional anxiety in certain situations.\",\n",
    "    ),\n",
    "    Example(\n",
    "        baseline=\"Anxiety, insecurity, and lack of skill in establishing appropriate relationships prevented workers from obtaining adequate bases for evaluation and for effectuation of treatment.\",\n",
    "        positive_sentiment=\"Intense anxiety, profound insecurity, and a lack of skill in establishing appropriate relationships prevented workers from obtaining adequate bases for evaluation and for effectuation of treatment.\",\n",
    "        negative_sentiment=\"Mild anxiety, occasional insecurity, and a lack of skill in establishing appropriate relationships prevented workers from obtaining adequate bases for evaluation and for effectuation of treatment.\",\n",
    "    ),\n",
    "    Example(\n",
    "        baseline=\"The relationship between self-reported fear and anxiety was examined in a large sample of normal Australian children and adolescents.\",\n",
    "        positive_sentiment=\"The relationship between deeply rooted fear and severe anxiety was examined in a large sample of Australian children and adolescents, revealing strong emotional undercurrents.\",\n",
    "        negative_sentiment=\"The relationship between mild fear and occasional anxiety was examined in a large sample of Australian children and adolescents.\",\n",
    "    )\n",
    "]\n",
    "\n",
    "PROMPT_INTRO = f\"\"\"In psychology lexicographic research, we define \"intensity\" as the \"extent to which a word refers to more emotionally or referentially intense phenomena\". Here we study the intensity of the word \"{TARGET_WORD}\"\n",
    "You will be given a sentence with the word \"{TARGET_WORD}\" in it. You will then be asked to write two new sentences: one where the word \"{TARGET_WORD}\" is more intense, and one where it is less intense.\n",
    "\n",
    "\"\"\"\n"
   ]
  },
  {
   "cell_type": "code",
   "execution_count": 4,
   "metadata": {},
   "outputs": [],
   "source": [
    "@dataclass\n",
    "class SentenceToModify:\n",
    "    text: str\n",
    "\n",
    "    def get_prompt(self):\n",
    "        prompt = PROMPT_INTRO\n",
    "        for example in EXAMPLES:\n",
    "            prompt += example.format_for_prompt()\n",
    "            prompt += \"\\n\\n\"\n",
    "        \n",
    "        prompt += f\"\"\"<baseline>\n",
    "{self.text}\n",
    "</baseline>\n",
    "\"\"\"\n",
    "        return prompt\n",
    "    \n",
    "    def parse_response(self, response: str):\n",
    "        # get the sentences inside <more {TARGET_WORD}> and <less {TARGET_WORD}>\n",
    "        positive_variation = response.split(f\"<positive {TARGET_WORD}>\")[1].split(f\"</positive {TARGET_WORD}>\")[0].strip()\n",
    "        negative_variation = response.split(f\"<negative {TARGET_WORD}>\")[1].split(f\"</negative {TARGET_WORD}>\")[0].strip()\n",
    "        return positive_variation, negative_variation\n",
    "\n",
    "    def get_variations(self) -> list[str]:\n",
    "        \"\"\" Returns a list of two strings: one where the TARGET_WORD is more intense, and one where it is less intense \"\"\"\n",
    "        assert TARGET_WORD in self.text, f\"TARGET_WORD {TARGET_WORD} not found in text\"\n",
    "        prompt = self.get_prompt()\n",
    "        res = sm.generate_text(prompt=prompt, llm_provider=PROVIDER, llm_model=MODEL)\n",
    "        return self.parse_response(res)\n"
   ]
  },
  {
   "cell_type": "code",
   "execution_count": 5,
   "metadata": {},
   "outputs": [
    {
     "data": {
      "text/plain": [
       "('The crippling anxiety caused by impending surgery left her feeling utterly overwhelmed and vulnerable, dominating her every waking moment and severely affecting her ability to function.',\n",
       " 'The mild anxiety caused by impending surgery left her feeling somewhat uneasy and vulnerable, though it only slightly affected her daily life.')"
      ]
     },
     "execution_count": 5,
     "metadata": {},
     "output_type": "execute_result"
    }
   ],
   "source": [
    "sentence = SentenceToModify(text=\"The anxiety caused by impending surgery left her feeling overwhelmed and vulnerable, affecting her daily life.\")\n",
    "sentence.get_variations()\n"
   ]
  },
  {
   "cell_type": "code",
   "execution_count": null,
   "metadata": {},
   "outputs": [],
   "source": []
  }
 ],
 "metadata": {
  "kernelspec": {
   "display_name": "Python (myenv)",
   "language": "python",
   "name": "myenv"
  },
  "language_info": {
   "codemirror_mode": {
    "name": "ipython",
    "version": 3
   },
   "file_extension": ".py",
   "mimetype": "text/x-python",
   "name": "python",
   "nbconvert_exporter": "python",
   "pygments_lexer": "ipython3",
   "version": "3.11.4"
  }
 },
 "nbformat": 4,
 "nbformat_minor": 2
}

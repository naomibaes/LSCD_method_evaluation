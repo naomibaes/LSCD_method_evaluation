{
 "cells": [
  {
   "cell_type": "markdown",
   "metadata": {},
   "source": [
    "### Producing Sentiment variations using LLMs\n",
    "\n",
    "Author: Raphael Merx\n",
    "Input: a baseline sentence; Output: variations of this sentence where a target word has more positive or negative sentiment\n"
   ]
  },
  {
   "cell_type": "code",
   "execution_count": 1,
   "metadata": {},
   "outputs": [],
   "source": [
    "#pip install simplemind python-dotenv pandas openpyxl\n",
    "#!pip install openpyxl==3.1.2"
   ]
  },
  {
   "cell_type": "code",
   "execution_count": 2,
   "metadata": {},
   "outputs": [
    {
     "name": "stderr",
     "output_type": "stream",
     "text": [
      "c:\\Users\\naomi\\anaconda3\\Lib\\site-packages\\pandas\\core\\arrays\\masked.py:60: UserWarning: Pandas requires version '1.3.6' or newer of 'bottleneck' (version '1.3.5' currently installed).\n",
      "  from pandas.core import (\n"
     ]
    }
   ],
   "source": [
    "from dotenv import load_dotenv\n",
    "load_dotenv()\n",
    "\n",
    "from dataclasses import dataclass\n",
    "from tqdm import tqdm\n",
    "import simplemind as sm\n",
    "from typing import Literal, List, get_args\n",
    "import pandas as pd\n",
    "import os\n",
    "import random\n",
    "\n",
    "random.seed(42)\n",
    "\n",
    "# Define TARGET_WORD_CHOICES\n",
    "TARGET_WORD_CHOICES = Literal['abuse', 'anxiety', 'depression', 'mental_health', 'mental_illness', 'trauma']\n",
    "TARGET_WORD: TARGET_WORD_CHOICES = 'abuse'\n",
    "\n",
    "# Generate human-readable versions for all target words\n",
    "TARGET_WORD_HUMAN_CHOICES = {word: word.replace('_', ' ') for word in get_args(TARGET_WORD_CHOICES)}\n",
    "TARGET_WORD_HUMAN = TARGET_WORD_HUMAN_CHOICES[TARGET_WORD]\n",
    "\n",
    "# Validate that both 'mental_health' and 'mental_illness' are handled correctly\n",
    "assert TARGET_WORD_HUMAN_CHOICES['mental_health'] == 'mental health', \"Error: 'mental_health' not handled correctly\"\n",
    "assert TARGET_WORD_HUMAN_CHOICES['mental_illness'] == 'mental illness', \"Error: 'mental_illness' not handled correctly\"\n",
    "\n",
    "# 1970-1974, ..., 2015-2019\n",
    "EPOCH_CHOICES = [f\"{y}-{y+4}\" for y in range(1970, 2020, 5)]\n",
    "EPOCH = EPOCH_CHOICES[0]\n",
    "\n",
    "MAX_BASELINES = 10\n",
    "\n",
    "# can be changed to gemini, see https://pypi.org/project/simplemind/\n",
    "PROVIDER = \"openai\"\n",
    "MODEL = \"gpt-4o\""
   ]
  },
  {
   "cell_type": "markdown",
   "metadata": {},
   "source": [
    "Get neutral baseline sentences from corpus for LLM input for each target\n",
    "\n",
    "- **Script 1 Aim**: This script computes sentence-level sentiment scores using the NRC-VAD lexicon for a corpus of target terms spanning 1970–2019. It dynamically determines neutral sentiment ranges for each 5-year epoch by expanding outward from the median sentiment score within the interquartile range (Q1–Q3) until at least 500 sentences are included, capped at 1500. The selected sentences are saved to CSV files for each target and epoch, and a summary file logs the dynamic ranges and counts.\n",
    "\n",
    "- **Script 2 Aim**: This script processes pre-saved baseline CSV files to calculate sentence counts by year and 5-year epochs for multiple target terms. It generates \"year_count_lines.csv\" and \"epoch_count_lines.csv\" summarizing these counts and creates an epoch-based bar plot visualizing sentence distributions across the specified epochs for each target."
   ]
  },
  {
   "cell_type": "code",
   "execution_count": 3,
   "metadata": {},
   "outputs": [],
   "source": [
    "#%run step0_get_neutral_baselines_sentiment.py\n",
    "#%run step1_plot_neutral_baselines_sentiment.py"
   ]
  },
  {
   "cell_type": "markdown",
   "metadata": {},
   "source": [
    "Setup examples to inject in the prompt\n",
    "\n",
    "-This code sets up examples of baseline sentences and their intensity-modified variations (more and less intense) to provide context and guidance for the LLM. \n",
    "-These examples are formatted into a structured prompt to help the model understand how to generate intensity-modified variations for new sentences."
   ]
  },
  {
   "cell_type": "code",
   "execution_count": 4,
   "metadata": {},
   "outputs": [],
   "source": [
    "@dataclass\n",
    "class Example:\n",
    "    baseline: str\n",
    "    positive_sentiment: str\n",
    "    negative_sentiment: str\n",
    "\n",
    "    def format_for_prompt(self, target_word: TARGET_WORD_CHOICES):\n",
    "        return f\"\"\"<baseline>\n",
    "{self.baseline}\n",
    "</baseline>\n",
    "<positive {target_word}>\n",
    "{self.positive_sentiment}\n",
    "</positive {target_word}>\n",
    "<negative {target_word}>\n",
    "{self.negative_sentiment}\n",
    "</negative {target_word}>\n",
    "\"\"\"\n",
    "\n",
    "\n",
    "    @staticmethod\n",
    "    def read_example_data(word: TARGET_WORD_CHOICES) -> pd.DataFrame:\n",
    "        # find the sentiment_example_sentences.xlsx file in the `input` folder\n",
    "        filepath = os.path.join('input', f'sentiment_example_sentences.xlsx')\n",
    "        df = pd.read_excel(filepath)\n",
    "        df = df[df['target'] == word]\n",
    "        return df\n",
    "\n",
    "def get_examples(target_word: TARGET_WORD_CHOICES) -> List[Example]:\n",
    "    example_data = Example.read_example_data(target_word)\n",
    "\n",
    "    return [\n",
    "        Example(\n",
    "            baseline=row['baseline'],\n",
    "            positive_sentiment=row['positive_sentiment'],\n",
    "            negative_sentiment=row['negative_sentiment']\n",
    "        )\n",
    "        for _, row in example_data.iterrows()\n",
    "    ]\n",
    "\n",
    "\n",
    "PROMPT_INTRO = \"\"\"In psychology research, 'Sentiment' is defined as “a term’s acquisition of a more positive or negative connotation.” This task focuses on the sentiment of the term **<<{target_word}>>**.\n",
    "\n",
    "### **Task**  \n",
    "You will be given a sentence containing the term **<<{target_word}>>**. Your goal is to write two new sentences:\n",
    "1. One where **<<{target_word}>>** has a **more positive connotation**.  \n",
    "2. One where **<<{target_word}>>** has a **more negative connotation**.  \n",
    "\n",
    "### **Rules**  \n",
    "1. The term **<<{target_word}>>** must remain **exactly as it appears** in the original sentence:\n",
    "   - Do **not** replace, rephrase, omit, or modify it in any way.\n",
    "   - Synonyms, variations, or altered spellings are not allowed.  \n",
    "\n",
    "2. **Meaning and Structure**:  \n",
    "   - Stay true to the original context and subject matter.  \n",
    "   - Maintain the sentence’s structure and ensure grammatical accuracy.  \n",
    "\n",
    "3. **Sentiment Adjustments**:  \n",
    "   - **Positive Sentiment**: Reflect strengths or benefits realistically, while respecting the potential negativity of **<<{target_word}>>**.\n",
    "   - **Negative Sentiment**: Highlight risks or harms appropriately, avoiding exaggeration or trivialization.  \n",
    "\n",
    "### **Important**  \n",
    "- Any response omitting, replacing, or altering **<<{target_word}>>** will be rejected.  \n",
    "- Ensure the output is:  \n",
    "   - **Grammatically correct**  \n",
    "   - **Sensitive and serious** in tone  \n",
    "   - **Free from exaggeration or sensationalism**  \n",
    "\n",
    "Follow these guidelines strictly to produce valid responses.  \n",
    "\"\"\""
   ]
  },
  {
   "cell_type": "code",
   "execution_count": 5,
   "metadata": {},
   "outputs": [
    {
     "name": "stdout",
     "output_type": "stream",
     "text": [
      "Word abuse, epoch 1970-1974: Loaded 7 baseline sentences, sampling 10\n",
      "In psychology research, 'Sentiment' is defined as “a term’s acquisition of a more positive or negative connotation.” This task focuses on the sentiment of the term **<<abuse>>**.\n",
      "\n",
      "### **Task**  \n",
      "You will be given a sentence containing the term **<<abuse>>**. Your goal is to write two new sentences:\n",
      "1. One where **<<abuse>>** has a **more positive connotation**.  \n",
      "2. One where **<<abuse>>** has a **more negative connotation**.  \n",
      "\n",
      "### **Rules**  \n",
      "1. The term **<<abuse>>** must remain **exactly as it appears** in the original sentence:\n",
      "   - Do **not** replace, rephrase, omit, or modify it in any way.\n",
      "   - Synonyms, variations, or altered spellings are not allowed.  \n",
      "\n",
      "2. **Meaning and Structure**:  \n",
      "   - Stay true to the original context and subject matter.  \n",
      "   - Maintain the sentence’s structure and ensure grammatical accuracy.  \n",
      "\n",
      "3. **Sentiment Adjustments**:  \n",
      "   - **Positive Sentiment**: Reflect strengths or benefits realistically, while respecting the potential negativity of **<<abuse>>**.\n",
      "   - **Negative Sentiment**: Highlight risks or harms appropriately, avoiding exaggeration or trivialization.  \n",
      "\n",
      "### **Important**  \n",
      "- Any response omitting, replacing, or altering **<<abuse>>** will be rejected.  \n",
      "- Ensure the output is:  \n",
      "   - **Grammatically correct**  \n",
      "   - **Sensitive and serious** in tone  \n",
      "   - **Free from exaggeration or sensationalism**  \n",
      "\n",
      "Follow these guidelines strictly to produce valid responses.  \n",
      "\n",
      "\n",
      "<baseline>\n",
      "Child abuse is most likely to occur when socially isolated parents react impulsively to aversive stimuli emitted by their children.\n",
      "</baseline>\n",
      "<positive abuse>\n",
      "Child abuse is less likely to occur when socially isolated parents respond lovingly to their children's behavior.\n",
      "</positive abuse>\n",
      "<negative abuse>\n",
      "Child abuse is most likely to occur when socially isolated parents react aggressively to their children's challenging behavior.\n",
      "</negative abuse>\n",
      "\n",
      "\n",
      "<baseline>\n",
      "The children represented a wide spectrum of sexual abuse.\n",
      "</baseline>\n",
      "<positive abuse>\n",
      "The children represented a meaningful spectrum of sexual abuse.\n",
      "</positive abuse>\n",
      "<negative abuse>\n",
      "The children represented a devastating spectrum of sexual abuse.\n",
      "</negative abuse>\n",
      "\n",
      "\n",
      "<baseline>\n",
      "Euphoric properties of cocaine lead to the development of chronic abuse, and appear to involve the acute activation of central DA neuronal systems.\n",
      "</baseline>\n",
      "<positive abuse>\n",
      "Euphoric properties of cocaine lead to the growth of chronic abuse, and appear to involve the acute activation of central DA pleasure systems.\n",
      "</positive abuse>\n",
      "<negative abuse>\n",
      "Emotional properties of cocaine lead to the decline into chronic abuse, and appear to involve the acute activation of central DA pain systems.\n",
      "</negative abuse>\n",
      "\n",
      "\n",
      "<baseline>\n",
      "Substance abuse helps the individual deal with distress associated with family interactions.\n",
      "</baseline>\n",
      "<positive abuse>\n",
      "Substance abuse helps the individual temporarily cope positively with family interactions.\n",
      "</positive abuse>\n",
      "<negative abuse>\n",
      "Substance abuse makes the individual endure the overwhelming pain and alientation associated with family interactions.\n",
      "</negative abuse>\n",
      "\n",
      "\n",
      "<baseline>\n",
      "The study determined that 84 of the sample reported a history of abuse or neglect.\n",
      "</baseline>\n",
      "<positive abuse>\n",
      "The study determined that 84 of the sample acknowledged a transformative history of overcoming abuse or neglect.\n",
      "</positive abuse>\n",
      "<negative abuse>\n",
      "The study determined that 84 of the sample complained of a miserable history of abuse or neglect.\n",
      "</negative abuse>\n",
      "\n",
      "\n",
      "<baseline>\n",
      "This paper attempts to show how a public health measure, by reducing production and withdrawing methylamphetamine (Methedrine) from retail pharmacists, dramatically affected the prevalence of its abuse in a provincial population.\n",
      "</baseline>\n",
      "\n"
     ]
    }
   ],
   "source": [
    "@dataclass\n",
    "class SentenceToModify:\n",
    "    text: str\n",
    "    positive_variation: str = None\n",
    "    negative_variation: str = None\n",
    "\n",
    "    def get_prompt(self, target_word: str) -> str:\n",
    "        prompt = PROMPT_INTRO.format(target_word=target_word) + \"\\n\\n\"\n",
    "        for example in get_examples(target_word):\n",
    "            prompt += example.format_for_prompt(target_word)\n",
    "            prompt += \"\\n\\n\"\n",
    "        \n",
    "        prompt += f\"\"\"<baseline>\n",
    "{self.text}\n",
    "</baseline>\n",
    "\"\"\"\n",
    "        return prompt\n",
    "    \n",
    "    def parse_response(self, response: str):\n",
    "        # get the sentences inside <positive {TARGET_WORD}> and <negative {TARGET_WORD}>\n",
    "        try:\n",
    "            self.positive_variation = response.split(f\"<positive {TARGET_WORD}>\")[1].split(f\"</positive {TARGET_WORD}>\")[0].strip()\n",
    "            self.negative_variation = response.split(f\"<negative {TARGET_WORD}>\")[1].split(f\"</negative {TARGET_WORD}>\")[0].strip()\n",
    "        except IndexError:\n",
    "            raise ValueError(f\"LLM response does not contain the expected format: {response}\")\n",
    "        return self.positive_variation, self.negative_variation\n",
    "\n",
    "    def get_variations(self) -> list[str]:\n",
    "        \"\"\" Returns a list of two strings: one where the TARGET_WORD has a more positive connotation, and one where it has a more negative one. \"\"\"\n",
    "        assert TARGET_WORD in self.text.lower(), f\"TARGET_WORD {TARGET_WORD} not found in {self.text}\"\n",
    "        prompt = self.get_prompt(TARGET_WORD)\n",
    "        res = sm.generate_text(prompt=prompt, llm_provider=PROVIDER, llm_model=MODEL)\n",
    "        return self.parse_response(res)\n",
    "\n",
    "    @staticmethod\n",
    "    def load_baselines(word: TARGET_WORD_CHOICES, epoch: EPOCH_CHOICES) -> List[str]:\n",
    "        # find the baselines.csv file in the `input` folder\n",
    "        filepath = os.path.join('input', 'baselines', f'{word}_{epoch}.baseline_1500_sentences.csv')\n",
    "        df = pd.read_csv(filepath)\n",
    "        # return the `sentence` column as a list\n",
    "        print(f\"Word {word}, epoch {epoch}: \", end=\"\")\n",
    "        print(f\"Loaded {len(df)} baseline sentences, sampling {MAX_BASELINES}\")\n",
    "        baselines = df['sentence'].tolist()\n",
    "        if MAX_BASELINES and len(baselines) > MAX_BASELINES:\n",
    "            baselines = random.sample(baselines, MAX_BASELINES)\n",
    "        baselines = [s.replace(TARGET_WORD, TARGET_WORD) for s in baselines]\n",
    "        return baselines\n",
    "    \n",
    "    @staticmethod\n",
    "    def save_sentences(sentences: List['SentenceToModify'], word: TARGET_WORD_CHOICES, epoch: EPOCH_CHOICES):\n",
    "        output_file = os.path.join('output', f'{word}_{epoch}.synthetic_sentences.csv')\n",
    "        df = pd.DataFrame([{'baseline': s.text, 'positive_variation': s.positive_variation, 'negative_variation': s.negative_variation} for s in sentences])\n",
    "        df.to_csv(output_file, index=False)\n",
    "        print(f\"Saved {len(sentences)} sentences to {output_file}\")\n",
    "    \n",
    "\n",
    "baselines = SentenceToModify.load_baselines(TARGET_WORD, EPOCH)\n",
    "sentence = SentenceToModify(text=baselines[0])\n",
    "print(sentence.get_prompt(target_word=TARGET_WORD))"
   ]
  },
  {
   "cell_type": "code",
   "execution_count": 6,
   "metadata": {},
   "outputs": [
    {
     "name": "stdout",
     "output_type": "stream",
     "text": [
      "Checking if output/test\\abuse_1970-1974.synthetic_sentences.csv exists...\n",
      "Word abuse, epoch 1970-1974: Loaded 7 baseline sentences, sampling 10\n"
     ]
    },
    {
     "name": "stderr",
     "output_type": "stream",
     "text": [
      "100%|██████████| 7/7 [00:14<00:00,  2.13s/it]\n"
     ]
    },
    {
     "name": "stdout",
     "output_type": "stream",
     "text": [
      "Saved 7 sentences to output\\abuse_1970-1974.synthetic_sentences.csv\n",
      "Processed and saved: output/test\\abuse_1970-1974.synthetic_sentences.csv\n",
      "Checking if output/test\\abuse_1975-1979.synthetic_sentences.csv exists...\n",
      "Word abuse, epoch 1975-1979: Loaded 188 baseline sentences, sampling 10\n"
     ]
    },
    {
     "name": "stderr",
     "output_type": "stream",
     "text": [
      "100%|██████████| 10/10 [00:20<00:00,  2.05s/it]\n"
     ]
    },
    {
     "name": "stdout",
     "output_type": "stream",
     "text": [
      "Saved 10 sentences to output\\abuse_1975-1979.synthetic_sentences.csv\n",
      "Processed and saved: output/test\\abuse_1975-1979.synthetic_sentences.csv\n",
      "Checking if output/test\\abuse_1980-1984.synthetic_sentences.csv exists...\n",
      "Word abuse, epoch 1980-1984: Loaded 434 baseline sentences, sampling 10\n"
     ]
    },
    {
     "name": "stderr",
     "output_type": "stream",
     "text": [
      "100%|██████████| 10/10 [00:17<00:00,  1.74s/it]\n"
     ]
    },
    {
     "name": "stdout",
     "output_type": "stream",
     "text": [
      "Saved 10 sentences to output\\abuse_1980-1984.synthetic_sentences.csv\n",
      "Processed and saved: output/test\\abuse_1980-1984.synthetic_sentences.csv\n",
      "Checking if output/test\\abuse_1985-1989.synthetic_sentences.csv exists...\n",
      "Word abuse, epoch 1985-1989: Loaded 512 baseline sentences, sampling 10\n"
     ]
    },
    {
     "name": "stderr",
     "output_type": "stream",
     "text": [
      "100%|██████████| 10/10 [00:19<00:00,  1.97s/it]\n"
     ]
    },
    {
     "name": "stdout",
     "output_type": "stream",
     "text": [
      "Saved 10 sentences to output\\abuse_1985-1989.synthetic_sentences.csv\n",
      "Processed and saved: output/test\\abuse_1985-1989.synthetic_sentences.csv\n",
      "Checking if output/test\\abuse_1990-1994.synthetic_sentences.csv exists...\n",
      "Word abuse, epoch 1990-1994: Loaded 722 baseline sentences, sampling 10\n"
     ]
    },
    {
     "name": "stderr",
     "output_type": "stream",
     "text": [
      "100%|██████████| 10/10 [00:16<00:00,  1.65s/it]\n"
     ]
    },
    {
     "name": "stdout",
     "output_type": "stream",
     "text": [
      "Saved 10 sentences to output\\abuse_1990-1994.synthetic_sentences.csv\n",
      "Processed and saved: output/test\\abuse_1990-1994.synthetic_sentences.csv\n",
      "Checking if output/test\\abuse_1995-1999.synthetic_sentences.csv exists...\n",
      "Word abuse, epoch 1995-1999: Loaded 536 baseline sentences, sampling 10\n"
     ]
    },
    {
     "name": "stderr",
     "output_type": "stream",
     "text": [
      "100%|██████████| 10/10 [00:15<00:00,  1.59s/it]\n"
     ]
    },
    {
     "name": "stdout",
     "output_type": "stream",
     "text": [
      "Saved 10 sentences to output\\abuse_1995-1999.synthetic_sentences.csv\n",
      "Processed and saved: output/test\\abuse_1995-1999.synthetic_sentences.csv\n",
      "Checking if output/test\\abuse_2000-2004.synthetic_sentences.csv exists...\n",
      "Word abuse, epoch 2000-2004: Loaded 683 baseline sentences, sampling 10\n"
     ]
    },
    {
     "name": "stderr",
     "output_type": "stream",
     "text": [
      "100%|██████████| 10/10 [00:21<00:00,  2.10s/it]\n"
     ]
    },
    {
     "name": "stdout",
     "output_type": "stream",
     "text": [
      "Saved 10 sentences to output\\abuse_2000-2004.synthetic_sentences.csv\n",
      "Processed and saved: output/test\\abuse_2000-2004.synthetic_sentences.csv\n",
      "Checking if output/test\\abuse_2005-2009.synthetic_sentences.csv exists...\n",
      "Word abuse, epoch 2005-2009: Loaded 789 baseline sentences, sampling 10\n"
     ]
    },
    {
     "name": "stderr",
     "output_type": "stream",
     "text": [
      "100%|██████████| 10/10 [00:20<00:00,  2.06s/it]\n"
     ]
    },
    {
     "name": "stdout",
     "output_type": "stream",
     "text": [
      "Saved 10 sentences to output\\abuse_2005-2009.synthetic_sentences.csv\n",
      "Processed and saved: output/test\\abuse_2005-2009.synthetic_sentences.csv\n",
      "Checking if output/test\\abuse_2010-2014.synthetic_sentences.csv exists...\n",
      "Word abuse, epoch 2010-2014: Loaded 931 baseline sentences, sampling 10\n"
     ]
    },
    {
     "name": "stderr",
     "output_type": "stream",
     "text": [
      "100%|██████████| 10/10 [00:20<00:00,  2.04s/it]\n"
     ]
    },
    {
     "name": "stdout",
     "output_type": "stream",
     "text": [
      "Saved 10 sentences to output\\abuse_2010-2014.synthetic_sentences.csv\n",
      "Processed and saved: output/test\\abuse_2010-2014.synthetic_sentences.csv\n",
      "Checking if output/test\\abuse_2015-2019.synthetic_sentences.csv exists...\n",
      "Word abuse, epoch 2015-2019: Loaded 843 baseline sentences, sampling 10\n"
     ]
    },
    {
     "name": "stderr",
     "output_type": "stream",
     "text": [
      "100%|██████████| 10/10 [00:22<00:00,  2.22s/it]\n"
     ]
    },
    {
     "name": "stdout",
     "output_type": "stream",
     "text": [
      "Saved 10 sentences to output\\abuse_2015-2019.synthetic_sentences.csv\n",
      "Processed and saved: output/test\\abuse_2015-2019.synthetic_sentences.csv\n",
      "Checking if output/test\\anxiety_1970-1974.synthetic_sentences.csv exists...\n",
      "Word anxiety, epoch 1970-1974: Loaded 378 baseline sentences, sampling 10\n"
     ]
    },
    {
     "name": "stderr",
     "output_type": "stream",
     "text": [
      "100%|██████████| 10/10 [00:21<00:00,  2.12s/it]\n"
     ]
    },
    {
     "name": "stdout",
     "output_type": "stream",
     "text": [
      "Saved 10 sentences to output\\anxiety_1970-1974.synthetic_sentences.csv\n",
      "Processed and saved: output/test\\anxiety_1970-1974.synthetic_sentences.csv\n",
      "Checking if output/test\\anxiety_1975-1979.synthetic_sentences.csv exists...\n",
      "Word anxiety, epoch 1975-1979: Loaded 547 baseline sentences, sampling 10\n"
     ]
    },
    {
     "name": "stderr",
     "output_type": "stream",
     "text": [
      "100%|██████████| 10/10 [00:19<00:00,  1.98s/it]\n"
     ]
    },
    {
     "name": "stdout",
     "output_type": "stream",
     "text": [
      "Saved 10 sentences to output\\anxiety_1975-1979.synthetic_sentences.csv\n",
      "Processed and saved: output/test\\anxiety_1975-1979.synthetic_sentences.csv\n",
      "Checking if output/test\\anxiety_1980-1984.synthetic_sentences.csv exists...\n",
      "Word anxiety, epoch 1980-1984: Loaded 664 baseline sentences, sampling 10\n"
     ]
    },
    {
     "name": "stderr",
     "output_type": "stream",
     "text": [
      "100%|██████████| 10/10 [00:16<00:00,  1.65s/it]\n"
     ]
    },
    {
     "name": "stdout",
     "output_type": "stream",
     "text": [
      "Saved 10 sentences to output\\anxiety_1980-1984.synthetic_sentences.csv\n",
      "Processed and saved: output/test\\anxiety_1980-1984.synthetic_sentences.csv\n",
      "Checking if output/test\\anxiety_1985-1989.synthetic_sentences.csv exists...\n",
      "Word anxiety, epoch 1985-1989: Loaded 605 baseline sentences, sampling 10\n"
     ]
    },
    {
     "name": "stderr",
     "output_type": "stream",
     "text": [
      "100%|██████████| 10/10 [00:22<00:00,  2.21s/it]\n"
     ]
    },
    {
     "name": "stdout",
     "output_type": "stream",
     "text": [
      "Saved 10 sentences to output\\anxiety_1985-1989.synthetic_sentences.csv\n",
      "Processed and saved: output/test\\anxiety_1985-1989.synthetic_sentences.csv\n",
      "Checking if output/test\\anxiety_1990-1994.synthetic_sentences.csv exists...\n",
      "Word anxiety, epoch 1990-1994: Loaded 973 baseline sentences, sampling 10\n"
     ]
    },
    {
     "name": "stderr",
     "output_type": "stream",
     "text": [
      "100%|██████████| 10/10 [00:17<00:00,  1.74s/it]\n"
     ]
    },
    {
     "name": "stdout",
     "output_type": "stream",
     "text": [
      "Saved 10 sentences to output\\anxiety_1990-1994.synthetic_sentences.csv\n",
      "Processed and saved: output/test\\anxiety_1990-1994.synthetic_sentences.csv\n",
      "Checking if output/test\\anxiety_1995-1999.synthetic_sentences.csv exists...\n",
      "Word anxiety, epoch 1995-1999: Loaded 642 baseline sentences, sampling 10\n"
     ]
    },
    {
     "name": "stderr",
     "output_type": "stream",
     "text": [
      "100%|██████████| 10/10 [00:23<00:00,  2.35s/it]\n"
     ]
    },
    {
     "name": "stdout",
     "output_type": "stream",
     "text": [
      "Saved 10 sentences to output\\anxiety_1995-1999.synthetic_sentences.csv\n",
      "Processed and saved: output/test\\anxiety_1995-1999.synthetic_sentences.csv\n",
      "Checking if output/test\\anxiety_2000-2004.synthetic_sentences.csv exists...\n",
      "Word anxiety, epoch 2000-2004: Loaded 906 baseline sentences, sampling 10\n"
     ]
    },
    {
     "name": "stderr",
     "output_type": "stream",
     "text": [
      "100%|██████████| 10/10 [00:16<00:00,  1.62s/it]\n"
     ]
    },
    {
     "name": "stdout",
     "output_type": "stream",
     "text": [
      "Saved 10 sentences to output\\anxiety_2000-2004.synthetic_sentences.csv\n",
      "Processed and saved: output/test\\anxiety_2000-2004.synthetic_sentences.csv\n",
      "Checking if output/test\\anxiety_2005-2009.synthetic_sentences.csv exists...\n",
      "Word anxiety, epoch 2005-2009: Loaded 1500 baseline sentences, sampling 10\n"
     ]
    },
    {
     "name": "stderr",
     "output_type": "stream",
     "text": [
      "100%|██████████| 10/10 [00:18<00:00,  1.85s/it]\n"
     ]
    },
    {
     "name": "stdout",
     "output_type": "stream",
     "text": [
      "Saved 10 sentences to output\\anxiety_2005-2009.synthetic_sentences.csv\n",
      "Processed and saved: output/test\\anxiety_2005-2009.synthetic_sentences.csv\n",
      "Checking if output/test\\anxiety_2010-2014.synthetic_sentences.csv exists...\n",
      "Word anxiety, epoch 2010-2014: Loaded 1500 baseline sentences, sampling 10\n"
     ]
    },
    {
     "name": "stderr",
     "output_type": "stream",
     "text": [
      "100%|██████████| 10/10 [00:20<00:00,  2.05s/it]\n"
     ]
    },
    {
     "name": "stdout",
     "output_type": "stream",
     "text": [
      "Saved 10 sentences to output\\anxiety_2010-2014.synthetic_sentences.csv\n",
      "Processed and saved: output/test\\anxiety_2010-2014.synthetic_sentences.csv\n",
      "Checking if output/test\\anxiety_2015-2019.synthetic_sentences.csv exists...\n",
      "Word anxiety, epoch 2015-2019: Loaded 1500 baseline sentences, sampling 10\n"
     ]
    },
    {
     "name": "stderr",
     "output_type": "stream",
     "text": [
      "100%|██████████| 10/10 [00:25<00:00,  2.56s/it]\n"
     ]
    },
    {
     "name": "stdout",
     "output_type": "stream",
     "text": [
      "Saved 10 sentences to output\\anxiety_2015-2019.synthetic_sentences.csv\n",
      "Processed and saved: output/test\\anxiety_2015-2019.synthetic_sentences.csv\n",
      "Checking if output/test\\depression_1970-1974.synthetic_sentences.csv exists...\n",
      "Word depression, epoch 1970-1974: Loaded 144 baseline sentences, sampling 10\n"
     ]
    },
    {
     "name": "stderr",
     "output_type": "stream",
     "text": [
      "100%|██████████| 10/10 [00:15<00:00,  1.60s/it]\n"
     ]
    },
    {
     "name": "stdout",
     "output_type": "stream",
     "text": [
      "Saved 10 sentences to output\\depression_1970-1974.synthetic_sentences.csv\n",
      "Processed and saved: output/test\\depression_1970-1974.synthetic_sentences.csv\n",
      "Checking if output/test\\depression_1975-1979.synthetic_sentences.csv exists...\n",
      "Word depression, epoch 1975-1979: Loaded 399 baseline sentences, sampling 10\n"
     ]
    },
    {
     "name": "stderr",
     "output_type": "stream",
     "text": [
      "100%|██████████| 10/10 [00:17<00:00,  1.75s/it]\n"
     ]
    },
    {
     "name": "stdout",
     "output_type": "stream",
     "text": [
      "Saved 10 sentences to output\\depression_1975-1979.synthetic_sentences.csv\n",
      "Processed and saved: output/test\\depression_1975-1979.synthetic_sentences.csv\n",
      "Checking if output/test\\depression_1980-1984.synthetic_sentences.csv exists...\n",
      "Word depression, epoch 1980-1984: Loaded 650 baseline sentences, sampling 10\n"
     ]
    },
    {
     "name": "stderr",
     "output_type": "stream",
     "text": [
      "100%|██████████| 10/10 [00:17<00:00,  1.76s/it]\n"
     ]
    },
    {
     "name": "stdout",
     "output_type": "stream",
     "text": [
      "Saved 10 sentences to output\\depression_1980-1984.synthetic_sentences.csv\n",
      "Processed and saved: output/test\\depression_1980-1984.synthetic_sentences.csv\n",
      "Checking if output/test\\depression_1985-1989.synthetic_sentences.csv exists...\n",
      "Word depression, epoch 1985-1989: Loaded 665 baseline sentences, sampling 10\n"
     ]
    },
    {
     "name": "stderr",
     "output_type": "stream",
     "text": [
      "100%|██████████| 10/10 [00:20<00:00,  2.04s/it]\n"
     ]
    },
    {
     "name": "stdout",
     "output_type": "stream",
     "text": [
      "Saved 10 sentences to output\\depression_1985-1989.synthetic_sentences.csv\n",
      "Processed and saved: output/test\\depression_1985-1989.synthetic_sentences.csv\n",
      "Checking if output/test\\depression_1990-1994.synthetic_sentences.csv exists...\n",
      "Word depression, epoch 1990-1994: Loaded 552 baseline sentences, sampling 10\n"
     ]
    },
    {
     "name": "stderr",
     "output_type": "stream",
     "text": [
      "100%|██████████| 10/10 [00:20<00:00,  2.09s/it]\n"
     ]
    },
    {
     "name": "stdout",
     "output_type": "stream",
     "text": [
      "Saved 10 sentences to output\\depression_1990-1994.synthetic_sentences.csv\n",
      "Processed and saved: output/test\\depression_1990-1994.synthetic_sentences.csv\n",
      "Checking if output/test\\depression_1995-1999.synthetic_sentences.csv exists...\n",
      "Word depression, epoch 1995-1999: Loaded 797 baseline sentences, sampling 10\n"
     ]
    },
    {
     "name": "stderr",
     "output_type": "stream",
     "text": [
      "100%|██████████| 10/10 [00:21<00:00,  2.13s/it]\n"
     ]
    },
    {
     "name": "stdout",
     "output_type": "stream",
     "text": [
      "Saved 10 sentences to output\\depression_1995-1999.synthetic_sentences.csv\n",
      "Processed and saved: output/test\\depression_1995-1999.synthetic_sentences.csv\n",
      "Checking if output/test\\depression_2000-2004.synthetic_sentences.csv exists...\n",
      "Word depression, epoch 2000-2004: Loaded 1121 baseline sentences, sampling 10\n"
     ]
    },
    {
     "name": "stderr",
     "output_type": "stream",
     "text": [
      "100%|██████████| 10/10 [00:22<00:00,  2.29s/it]\n"
     ]
    },
    {
     "name": "stdout",
     "output_type": "stream",
     "text": [
      "Saved 10 sentences to output\\depression_2000-2004.synthetic_sentences.csv\n",
      "Processed and saved: output/test\\depression_2000-2004.synthetic_sentences.csv\n",
      "Checking if output/test\\depression_2005-2009.synthetic_sentences.csv exists...\n",
      "Word depression, epoch 2005-2009: Loaded 1500 baseline sentences, sampling 10\n"
     ]
    },
    {
     "name": "stderr",
     "output_type": "stream",
     "text": [
      "100%|██████████| 10/10 [00:16<00:00,  1.68s/it]\n"
     ]
    },
    {
     "name": "stdout",
     "output_type": "stream",
     "text": [
      "Saved 10 sentences to output\\depression_2005-2009.synthetic_sentences.csv\n",
      "Processed and saved: output/test\\depression_2005-2009.synthetic_sentences.csv\n",
      "Checking if output/test\\depression_2010-2014.synthetic_sentences.csv exists...\n",
      "Word depression, epoch 2010-2014: Loaded 1500 baseline sentences, sampling 10\n"
     ]
    },
    {
     "name": "stderr",
     "output_type": "stream",
     "text": [
      "100%|██████████| 10/10 [00:19<00:00,  1.99s/it]\n"
     ]
    },
    {
     "name": "stdout",
     "output_type": "stream",
     "text": [
      "Saved 10 sentences to output\\depression_2010-2014.synthetic_sentences.csv\n",
      "Processed and saved: output/test\\depression_2010-2014.synthetic_sentences.csv\n",
      "Checking if output/test\\depression_2015-2019.synthetic_sentences.csv exists...\n",
      "Word depression, epoch 2015-2019: Loaded 1500 baseline sentences, sampling 10\n"
     ]
    },
    {
     "name": "stderr",
     "output_type": "stream",
     "text": [
      "100%|██████████| 10/10 [00:22<00:00,  2.21s/it]\n"
     ]
    },
    {
     "name": "stdout",
     "output_type": "stream",
     "text": [
      "Saved 10 sentences to output\\depression_2015-2019.synthetic_sentences.csv\n",
      "Processed and saved: output/test\\depression_2015-2019.synthetic_sentences.csv\n",
      "Checking if output/test\\mental_health_1970-1974.synthetic_sentences.csv exists...\n",
      "Word mental_health, epoch 1970-1974: Loaded 59 baseline sentences, sampling 10\n"
     ]
    },
    {
     "name": "stderr",
     "output_type": "stream",
     "text": [
      "100%|██████████| 10/10 [00:19<00:00,  1.99s/it]\n"
     ]
    },
    {
     "name": "stdout",
     "output_type": "stream",
     "text": [
      "Saved 10 sentences to output\\mental_health_1970-1974.synthetic_sentences.csv\n",
      "Processed and saved: output/test\\mental_health_1970-1974.synthetic_sentences.csv\n",
      "Checking if output/test\\mental_health_1975-1979.synthetic_sentences.csv exists...\n",
      "Word mental_health, epoch 1975-1979: Loaded 338 baseline sentences, sampling 10\n"
     ]
    },
    {
     "name": "stderr",
     "output_type": "stream",
     "text": [
      "100%|██████████| 10/10 [00:14<00:00,  1.43s/it]\n"
     ]
    },
    {
     "name": "stdout",
     "output_type": "stream",
     "text": [
      "Saved 10 sentences to output\\mental_health_1975-1979.synthetic_sentences.csv\n",
      "Processed and saved: output/test\\mental_health_1975-1979.synthetic_sentences.csv\n",
      "Checking if output/test\\mental_health_1980-1984.synthetic_sentences.csv exists...\n",
      "Word mental_health, epoch 1980-1984: Loaded 464 baseline sentences, sampling 10\n"
     ]
    },
    {
     "name": "stderr",
     "output_type": "stream",
     "text": [
      "100%|██████████| 10/10 [00:15<00:00,  1.57s/it]\n"
     ]
    },
    {
     "name": "stdout",
     "output_type": "stream",
     "text": [
      "Saved 10 sentences to output\\mental_health_1980-1984.synthetic_sentences.csv\n",
      "Processed and saved: output/test\\mental_health_1980-1984.synthetic_sentences.csv\n",
      "Checking if output/test\\mental_health_1985-1989.synthetic_sentences.csv exists...\n",
      "Word mental_health, epoch 1985-1989: Loaded 576 baseline sentences, sampling 10\n"
     ]
    },
    {
     "name": "stderr",
     "output_type": "stream",
     "text": [
      "100%|██████████| 10/10 [00:14<00:00,  1.41s/it]\n"
     ]
    },
    {
     "name": "stdout",
     "output_type": "stream",
     "text": [
      "Saved 10 sentences to output\\mental_health_1985-1989.synthetic_sentences.csv\n",
      "Processed and saved: output/test\\mental_health_1985-1989.synthetic_sentences.csv\n",
      "Checking if output/test\\mental_health_1990-1994.synthetic_sentences.csv exists...\n",
      "Word mental_health, epoch 1990-1994: Loaded 594 baseline sentences, sampling 10\n"
     ]
    },
    {
     "name": "stderr",
     "output_type": "stream",
     "text": [
      "100%|██████████| 10/10 [00:16<00:00,  1.66s/it]\n"
     ]
    },
    {
     "name": "stdout",
     "output_type": "stream",
     "text": [
      "Saved 10 sentences to output\\mental_health_1990-1994.synthetic_sentences.csv\n",
      "Processed and saved: output/test\\mental_health_1990-1994.synthetic_sentences.csv\n",
      "Checking if output/test\\mental_health_1995-1999.synthetic_sentences.csv exists...\n",
      "Word mental_health, epoch 1995-1999: Loaded 653 baseline sentences, sampling 10\n"
     ]
    },
    {
     "name": "stderr",
     "output_type": "stream",
     "text": [
      "100%|██████████| 10/10 [00:15<00:00,  1.54s/it]\n"
     ]
    },
    {
     "name": "stdout",
     "output_type": "stream",
     "text": [
      "Saved 10 sentences to output\\mental_health_1995-1999.synthetic_sentences.csv\n",
      "Processed and saved: output/test\\mental_health_1995-1999.synthetic_sentences.csv\n",
      "Checking if output/test\\mental_health_2000-2004.synthetic_sentences.csv exists...\n",
      "Word mental_health, epoch 2000-2004: Loaded 718 baseline sentences, sampling 10\n"
     ]
    },
    {
     "name": "stderr",
     "output_type": "stream",
     "text": [
      "100%|██████████| 10/10 [00:14<00:00,  1.48s/it]\n"
     ]
    },
    {
     "name": "stdout",
     "output_type": "stream",
     "text": [
      "Saved 10 sentences to output\\mental_health_2000-2004.synthetic_sentences.csv\n",
      "Processed and saved: output/test\\mental_health_2000-2004.synthetic_sentences.csv\n",
      "Checking if output/test\\mental_health_2005-2009.synthetic_sentences.csv exists...\n",
      "Word mental_health, epoch 2005-2009: Loaded 615 baseline sentences, sampling 10\n"
     ]
    },
    {
     "name": "stderr",
     "output_type": "stream",
     "text": [
      "100%|██████████| 10/10 [00:15<00:00,  1.55s/it]\n"
     ]
    },
    {
     "name": "stdout",
     "output_type": "stream",
     "text": [
      "Saved 10 sentences to output\\mental_health_2005-2009.synthetic_sentences.csv\n",
      "Processed and saved: output/test\\mental_health_2005-2009.synthetic_sentences.csv\n",
      "Checking if output/test\\mental_health_2010-2014.synthetic_sentences.csv exists...\n",
      "Word mental_health, epoch 2010-2014: Loaded 1109 baseline sentences, sampling 10\n"
     ]
    },
    {
     "name": "stderr",
     "output_type": "stream",
     "text": [
      "100%|██████████| 10/10 [00:16<00:00,  1.66s/it]\n"
     ]
    },
    {
     "name": "stdout",
     "output_type": "stream",
     "text": [
      "Saved 10 sentences to output\\mental_health_2010-2014.synthetic_sentences.csv\n",
      "Processed and saved: output/test\\mental_health_2010-2014.synthetic_sentences.csv\n",
      "Checking if output/test\\mental_health_2015-2019.synthetic_sentences.csv exists...\n",
      "Word mental_health, epoch 2015-2019: Loaded 1222 baseline sentences, sampling 10\n"
     ]
    },
    {
     "name": "stderr",
     "output_type": "stream",
     "text": [
      "100%|██████████| 10/10 [00:17<00:00,  1.77s/it]\n"
     ]
    },
    {
     "name": "stdout",
     "output_type": "stream",
     "text": [
      "Saved 10 sentences to output\\mental_health_2015-2019.synthetic_sentences.csv\n",
      "Processed and saved: output/test\\mental_health_2015-2019.synthetic_sentences.csv\n",
      "Checking if output/test\\mental_illness_1970-1974.synthetic_sentences.csv exists...\n",
      "Word mental_illness, epoch 1970-1974: Loaded 30 baseline sentences, sampling 10\n"
     ]
    },
    {
     "name": "stderr",
     "output_type": "stream",
     "text": [
      "100%|██████████| 10/10 [00:17<00:00,  1.75s/it]\n"
     ]
    },
    {
     "name": "stdout",
     "output_type": "stream",
     "text": [
      "Saved 10 sentences to output\\mental_illness_1970-1974.synthetic_sentences.csv\n",
      "Processed and saved: output/test\\mental_illness_1970-1974.synthetic_sentences.csv\n",
      "Checking if output/test\\mental_illness_1975-1979.synthetic_sentences.csv exists...\n",
      "Word mental_illness, epoch 1975-1979: Loaded 64 baseline sentences, sampling 10\n"
     ]
    },
    {
     "name": "stderr",
     "output_type": "stream",
     "text": [
      "100%|██████████| 10/10 [00:20<00:00,  2.05s/it]\n"
     ]
    },
    {
     "name": "stdout",
     "output_type": "stream",
     "text": [
      "Saved 10 sentences to output\\mental_illness_1975-1979.synthetic_sentences.csv\n",
      "Processed and saved: output/test\\mental_illness_1975-1979.synthetic_sentences.csv\n",
      "Checking if output/test\\mental_illness_1980-1984.synthetic_sentences.csv exists...\n",
      "Word mental_illness, epoch 1980-1984: Loaded 63 baseline sentences, sampling 10\n"
     ]
    },
    {
     "name": "stderr",
     "output_type": "stream",
     "text": [
      "100%|██████████| 10/10 [00:18<00:00,  1.90s/it]\n"
     ]
    },
    {
     "name": "stdout",
     "output_type": "stream",
     "text": [
      "Saved 10 sentences to output\\mental_illness_1980-1984.synthetic_sentences.csv\n",
      "Processed and saved: output/test\\mental_illness_1980-1984.synthetic_sentences.csv\n",
      "Checking if output/test\\mental_illness_1985-1989.synthetic_sentences.csv exists...\n",
      "Word mental_illness, epoch 1985-1989: Loaded 58 baseline sentences, sampling 10\n"
     ]
    },
    {
     "name": "stderr",
     "output_type": "stream",
     "text": [
      "100%|██████████| 10/10 [00:17<00:00,  1.74s/it]\n"
     ]
    },
    {
     "name": "stdout",
     "output_type": "stream",
     "text": [
      "Saved 10 sentences to output\\mental_illness_1985-1989.synthetic_sentences.csv\n",
      "Processed and saved: output/test\\mental_illness_1985-1989.synthetic_sentences.csv\n",
      "Checking if output/test\\mental_illness_1990-1994.synthetic_sentences.csv exists...\n",
      "Word mental_illness, epoch 1990-1994: Loaded 96 baseline sentences, sampling 10\n"
     ]
    },
    {
     "name": "stderr",
     "output_type": "stream",
     "text": [
      "100%|██████████| 10/10 [00:20<00:00,  2.07s/it]\n"
     ]
    },
    {
     "name": "stdout",
     "output_type": "stream",
     "text": [
      "Saved 10 sentences to output\\mental_illness_1990-1994.synthetic_sentences.csv\n",
      "Processed and saved: output/test\\mental_illness_1990-1994.synthetic_sentences.csv\n",
      "Checking if output/test\\mental_illness_1995-1999.synthetic_sentences.csv exists...\n",
      "Word mental_illness, epoch 1995-1999: Loaded 229 baseline sentences, sampling 10\n"
     ]
    },
    {
     "name": "stderr",
     "output_type": "stream",
     "text": [
      "100%|██████████| 10/10 [00:21<00:00,  2.15s/it]\n"
     ]
    },
    {
     "name": "stdout",
     "output_type": "stream",
     "text": [
      "Saved 10 sentences to output\\mental_illness_1995-1999.synthetic_sentences.csv\n",
      "Processed and saved: output/test\\mental_illness_1995-1999.synthetic_sentences.csv\n",
      "Checking if output/test\\mental_illness_2000-2004.synthetic_sentences.csv exists...\n",
      "Word mental_illness, epoch 2000-2004: Loaded 348 baseline sentences, sampling 10\n"
     ]
    },
    {
     "name": "stderr",
     "output_type": "stream",
     "text": [
      "100%|██████████| 10/10 [00:26<00:00,  2.68s/it]\n"
     ]
    },
    {
     "name": "stdout",
     "output_type": "stream",
     "text": [
      "Saved 10 sentences to output\\mental_illness_2000-2004.synthetic_sentences.csv\n",
      "Processed and saved: output/test\\mental_illness_2000-2004.synthetic_sentences.csv\n",
      "Checking if output/test\\mental_illness_2005-2009.synthetic_sentences.csv exists...\n",
      "Word mental_illness, epoch 2005-2009: Loaded 537 baseline sentences, sampling 10\n"
     ]
    },
    {
     "name": "stderr",
     "output_type": "stream",
     "text": [
      "100%|██████████| 10/10 [00:18<00:00,  1.90s/it]\n"
     ]
    },
    {
     "name": "stdout",
     "output_type": "stream",
     "text": [
      "Saved 10 sentences to output\\mental_illness_2005-2009.synthetic_sentences.csv\n",
      "Processed and saved: output/test\\mental_illness_2005-2009.synthetic_sentences.csv\n",
      "Checking if output/test\\mental_illness_2010-2014.synthetic_sentences.csv exists...\n",
      "Word mental_illness, epoch 2010-2014: Loaded 514 baseline sentences, sampling 10\n"
     ]
    },
    {
     "name": "stderr",
     "output_type": "stream",
     "text": [
      "100%|██████████| 10/10 [00:19<00:00,  1.96s/it]\n"
     ]
    },
    {
     "name": "stdout",
     "output_type": "stream",
     "text": [
      "Saved 10 sentences to output\\mental_illness_2010-2014.synthetic_sentences.csv\n",
      "Processed and saved: output/test\\mental_illness_2010-2014.synthetic_sentences.csv\n",
      "Checking if output/test\\mental_illness_2015-2019.synthetic_sentences.csv exists...\n",
      "Word mental_illness, epoch 2015-2019: Loaded 613 baseline sentences, sampling 10\n"
     ]
    },
    {
     "name": "stderr",
     "output_type": "stream",
     "text": [
      "100%|██████████| 10/10 [00:21<00:00,  2.13s/it]\n"
     ]
    },
    {
     "name": "stdout",
     "output_type": "stream",
     "text": [
      "Saved 10 sentences to output\\mental_illness_2015-2019.synthetic_sentences.csv\n",
      "Processed and saved: output/test\\mental_illness_2015-2019.synthetic_sentences.csv\n",
      "Checking if output/test\\trauma_1970-1974.synthetic_sentences.csv exists...\n",
      "Word trauma, epoch 1970-1974: Loaded 13 baseline sentences, sampling 10\n"
     ]
    },
    {
     "name": "stderr",
     "output_type": "stream",
     "text": [
      "100%|██████████| 10/10 [00:15<00:00,  1.57s/it]\n"
     ]
    },
    {
     "name": "stdout",
     "output_type": "stream",
     "text": [
      "Saved 10 sentences to output\\trauma_1970-1974.synthetic_sentences.csv\n",
      "Processed and saved: output/test\\trauma_1970-1974.synthetic_sentences.csv\n",
      "Checking if output/test\\trauma_1975-1979.synthetic_sentences.csv exists...\n",
      "Word trauma, epoch 1975-1979: Loaded 11 baseline sentences, sampling 10\n"
     ]
    },
    {
     "name": "stderr",
     "output_type": "stream",
     "text": [
      "100%|██████████| 10/10 [00:23<00:00,  2.32s/it]\n"
     ]
    },
    {
     "name": "stdout",
     "output_type": "stream",
     "text": [
      "Saved 10 sentences to output\\trauma_1975-1979.synthetic_sentences.csv\n",
      "Processed and saved: output/test\\trauma_1975-1979.synthetic_sentences.csv\n",
      "Checking if output/test\\trauma_1980-1984.synthetic_sentences.csv exists...\n",
      "Word trauma, epoch 1980-1984: Loaded 51 baseline sentences, sampling 10\n"
     ]
    },
    {
     "name": "stderr",
     "output_type": "stream",
     "text": [
      "100%|██████████| 10/10 [00:18<00:00,  1.83s/it]\n"
     ]
    },
    {
     "name": "stdout",
     "output_type": "stream",
     "text": [
      "Saved 10 sentences to output\\trauma_1980-1984.synthetic_sentences.csv\n",
      "Processed and saved: output/test\\trauma_1980-1984.synthetic_sentences.csv\n",
      "Checking if output/test\\trauma_1985-1989.synthetic_sentences.csv exists...\n",
      "Word trauma, epoch 1985-1989: Loaded 99 baseline sentences, sampling 10\n"
     ]
    },
    {
     "name": "stderr",
     "output_type": "stream",
     "text": [
      "100%|██████████| 10/10 [00:24<00:00,  2.42s/it]\n"
     ]
    },
    {
     "name": "stdout",
     "output_type": "stream",
     "text": [
      "Saved 10 sentences to output\\trauma_1985-1989.synthetic_sentences.csv\n",
      "Processed and saved: output/test\\trauma_1985-1989.synthetic_sentences.csv\n",
      "Checking if output/test\\trauma_1990-1994.synthetic_sentences.csv exists...\n",
      "Word trauma, epoch 1990-1994: Loaded 297 baseline sentences, sampling 10\n"
     ]
    },
    {
     "name": "stderr",
     "output_type": "stream",
     "text": [
      "100%|██████████| 10/10 [00:17<00:00,  1.76s/it]\n"
     ]
    },
    {
     "name": "stdout",
     "output_type": "stream",
     "text": [
      "Saved 10 sentences to output\\trauma_1990-1994.synthetic_sentences.csv\n",
      "Processed and saved: output/test\\trauma_1990-1994.synthetic_sentences.csv\n",
      "Checking if output/test\\trauma_1995-1999.synthetic_sentences.csv exists...\n",
      "Word trauma, epoch 1995-1999: Loaded 521 baseline sentences, sampling 10\n"
     ]
    },
    {
     "name": "stderr",
     "output_type": "stream",
     "text": [
      "100%|██████████| 10/10 [00:27<00:00,  2.71s/it]\n"
     ]
    },
    {
     "name": "stdout",
     "output_type": "stream",
     "text": [
      "Saved 10 sentences to output\\trauma_1995-1999.synthetic_sentences.csv\n",
      "Processed and saved: output/test\\trauma_1995-1999.synthetic_sentences.csv\n",
      "Checking if output/test\\trauma_2000-2004.synthetic_sentences.csv exists...\n",
      "Word trauma, epoch 2000-2004: Loaded 650 baseline sentences, sampling 10\n"
     ]
    },
    {
     "name": "stderr",
     "output_type": "stream",
     "text": [
      "100%|██████████| 10/10 [00:18<00:00,  1.89s/it]\n"
     ]
    },
    {
     "name": "stdout",
     "output_type": "stream",
     "text": [
      "Saved 10 sentences to output\\trauma_2000-2004.synthetic_sentences.csv\n",
      "Processed and saved: output/test\\trauma_2000-2004.synthetic_sentences.csv\n",
      "Checking if output/test\\trauma_2005-2009.synthetic_sentences.csv exists...\n",
      "Word trauma, epoch 2005-2009: Loaded 742 baseline sentences, sampling 10\n"
     ]
    },
    {
     "name": "stderr",
     "output_type": "stream",
     "text": [
      "100%|██████████| 10/10 [01:55<00:00, 11.56s/it]\n"
     ]
    },
    {
     "name": "stdout",
     "output_type": "stream",
     "text": [
      "Saved 10 sentences to output\\trauma_2005-2009.synthetic_sentences.csv\n",
      "Processed and saved: output/test\\trauma_2005-2009.synthetic_sentences.csv\n",
      "Checking if output/test\\trauma_2010-2014.synthetic_sentences.csv exists...\n",
      "Word trauma, epoch 2010-2014: Loaded 552 baseline sentences, sampling 10\n"
     ]
    },
    {
     "name": "stderr",
     "output_type": "stream",
     "text": [
      "100%|██████████| 10/10 [00:17<00:00,  1.80s/it]\n"
     ]
    },
    {
     "name": "stdout",
     "output_type": "stream",
     "text": [
      "Saved 10 sentences to output\\trauma_2010-2014.synthetic_sentences.csv\n",
      "Processed and saved: output/test\\trauma_2010-2014.synthetic_sentences.csv\n",
      "Checking if output/test\\trauma_2015-2019.synthetic_sentences.csv exists...\n",
      "Word trauma, epoch 2015-2019: Loaded 627 baseline sentences, sampling 10\n"
     ]
    },
    {
     "name": "stderr",
     "output_type": "stream",
     "text": [
      "100%|██████████| 10/10 [00:17<00:00,  1.74s/it]"
     ]
    },
    {
     "name": "stdout",
     "output_type": "stream",
     "text": [
      "Saved 10 sentences to output\\trauma_2015-2019.synthetic_sentences.csv\n",
      "Processed and saved: output/test\\trauma_2015-2019.synthetic_sentences.csv\n"
     ]
    },
    {
     "name": "stderr",
     "output_type": "stream",
     "text": [
      "\n"
     ]
    }
   ],
   "source": [
    "import os\n",
    "from tqdm import tqdm\n",
    "\n",
    "# Constants for processing\n",
    "MAX_BASELINES = 10\n",
    "OUTPUT_DIR = \"output/test\"  # Directory where processed files are saved\n",
    "\n",
    "# Ensure the output directory exists\n",
    "os.makedirs(OUTPUT_DIR, exist_ok=True)\n",
    "\n",
    "# Loop through each target word and epoch\n",
    "for TARGET_WORD in get_args(TARGET_WORD_CHOICES):\n",
    "    for EPOCH in EPOCH_CHOICES:\n",
    "        # Construct the file path to check if it already exists\n",
    "        output_file = os.path.join(OUTPUT_DIR, f\"{TARGET_WORD}_{EPOCH}.synthetic_sentences.csv\")\n",
    "        \n",
    "        # Print the file path to debug\n",
    "        print(f\"Checking if {output_file} exists...\")\n",
    "        \n",
    "        # Skip if the file already exists\n",
    "        if os.path.exists(output_file):\n",
    "            print(f\"Skipping {TARGET_WORD}, {EPOCH}: File already processed.\")\n",
    "            continue\n",
    "        \n",
    "        # Load baselines if the file does not exist\n",
    "        baselines = SentenceToModify.load_baselines(TARGET_WORD, EPOCH)\n",
    "        sentences = []\n",
    "        \n",
    "        # Process each baseline sentence\n",
    "        for baseline in tqdm(baselines):\n",
    "            sentence = SentenceToModify(text=baseline)\n",
    "            try:\n",
    "                positive_variation, negative_variation = sentence.get_variations()\n",
    "                sentences.append(sentence)\n",
    "            except Exception as e:\n",
    "                print(f\"Error processing sentence: {baseline}. Error: {str(e)}\")\n",
    "        \n",
    "        # Save the processed sentences\n",
    "        if sentences:  # Only save if there are completed sentences\n",
    "            SentenceToModify.save_sentences(sentences, word=TARGET_WORD, epoch=EPOCH)\n",
    "            print(f\"Processed and saved: {output_file}\")\n",
    "        else:\n",
    "            print(f\"No valid sentences processed for {TARGET_WORD}, {EPOCH}\")"
   ]
  },
  {
   "cell_type": "code",
   "execution_count": 7,
   "metadata": {},
   "outputs": [],
   "source": [
    "# remove file output/test/anxiety_1975-1979.synthetic_sentences.csv\n",
    "\n",
    "#os.remove(\"output/test/anxiety_1975-1979.synthetic_sentences.csv\")"
   ]
  },
  {
   "cell_type": "code",
   "execution_count": null,
   "metadata": {},
   "outputs": [],
   "source": []
  }
 ],
 "metadata": {
  "kernelspec": {
   "display_name": ".venv",
   "language": "python",
   "name": "python3"
  },
  "language_info": {
   "codemirror_mode": {
    "name": "ipython",
    "version": 3
   },
   "file_extension": ".py",
   "mimetype": "text/x-python",
   "name": "python",
   "nbconvert_exporter": "python",
   "pygments_lexer": "ipython3",
   "version": "3.12.7"
  }
 },
 "nbformat": 4,
 "nbformat_minor": 2
}
